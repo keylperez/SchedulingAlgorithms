{
 "cells": [
  {
   "cell_type": "markdown",
   "id": "982d41d1",
   "metadata": {
    "colab_type": "text",
    "id": "view-in-github"
   },
   "source": [
    "<a href=\"https://colab.research.google.com/github/keylperez/SchedulingAlgorithms/blob/main/NP_PNP.ipynb\" target=\"_parent\"><img src=\"https://colab.research.google.com/assets/colab-badge.svg\" alt=\"Open In Colab\"/></a>"
   ]
  },
  {
   "cell_type": "markdown",
   "id": "A3R89pxnZmEF",
   "metadata": {
    "id": "A3R89pxnZmEF"
   },
   "source": [
    "Priority Non-Preemptive"
   ]
  },
  {
   "cell_type": "code",
   "execution_count": 1,
   "id": "e97c63d6",
   "metadata": {
    "id": "e97c63d6"
   },
   "outputs": [],
   "source": [
    "import time\n",
    "import pandas as pd\n",
    "import matplotlib\n",
    "matplotlib.use('Agg')\n",
    "import matplotlib.pyplot as plt"
   ]
  },
  {
   "cell_type": "code",
   "execution_count": 2,
   "id": "13a34b77-e15f-42a9-a617-774df38f4365",
   "metadata": {},
   "outputs": [],
   "source": [
    "%matplotlib inline"
   ]
  },
  {
   "cell_type": "code",
   "execution_count": 3,
   "id": "e52815c8",
   "metadata": {
    "id": "e52815c8"
   },
   "outputs": [],
   "source": [
    "class Process:\n",
    "    def __init__(self, array):\n",
    "        self.processArr = array\n",
    "        self.averageWaitingTime = 0\n",
    "        self.totalTime = 0\n",
    "    def calculateAverageWaitingTime(self):\n",
    "        sum = 0\n",
    "        for task in self.processArr:\n",
    "            sum += task.waitingTime\n",
    "        return round(sum/len(self.processArr), 2)\n",
    "    def to_dataFrame(self):\n",
    "        data = []\n",
    "        for task in self.processArr:\n",
    "            data.append({\n",
    "                'Process': task.processChar,\n",
    "                'Arrival': task.arrivalTime,\n",
    "                'Burst': task.burstTime,\n",
    "                'Completion': task.completionTime,\n",
    "                'Waiting': task.waitingTime,\n",
    "                'Turn Around': task.turnAroundTime\n",
    "            })\n",
    "        return pd.DataFrame(data)\n",
    "        \n",
    "class Task:\n",
    "    def __init__(self, processChar, burstTime, arrivalTime, priority):\n",
    "        self.processChar = processChar\n",
    "        self.burstTime = burstTime\n",
    "        self.arrivalTime = arrivalTime\n",
    "        self.priority = priority\n",
    "        self.completionTime = 0\n",
    "        self.turnAroundTime = 0\n",
    "        self.waitingTime = 0\n",
    "\n",
    "    def calculateAttributes(self, time):\n",
    "        self.completionTime = time\n",
    "        self.turnAroundTime = self.completionTime - self.arrivalTime\n",
    "        self.waitingTime = self.turnAroundTime - self.burstTime\n",
    "\n",
    "    def __repr__(self):\n",
    "        return (f\"{{ Process: {self.processChar}, Burst Time: {self.burstTime}, \"\n",
    "                f\"Arrival Time: {self.arrivalTime}, Priority: {self.priority}, \"\n",
    "                f\"Waiting Time: {self.waitingTime}, CompletionTime: {self.completionTime}, \"\n",
    "                f\"Turn Around Time: {self.turnAroundTime} }}\")"
   ]
  },
  {
   "cell_type": "code",
   "execution_count": 4,
   "id": "b1ed2f80",
   "metadata": {
    "colab": {
     "base_uri": "https://localhost:8080/"
    },
    "id": "b1ed2f80",
    "outputId": "8f37ea8b-8c81-4c5a-840e-06529901ca3e"
   },
   "outputs": [
    {
     "name": "stdin",
     "output_type": "stream",
     "text": [
      "Input how many processes you will input:  3\n"
     ]
    },
    {
     "name": "stdout",
     "output_type": "stream",
     "text": [
      "Process A\n"
     ]
    },
    {
     "name": "stdin",
     "output_type": "stream",
     "text": [
      "Input Burst Time:  4\n",
      "Input Arrival Time:  0\n",
      "Input Priority (lower value = higher priority):  3\n"
     ]
    },
    {
     "name": "stdout",
     "output_type": "stream",
     "text": [
      "Process B\n"
     ]
    },
    {
     "name": "stdin",
     "output_type": "stream",
     "text": [
      "Input Burst Time:  5\n",
      "Input Arrival Time:  3\n",
      "Input Priority (lower value = higher priority):  1\n"
     ]
    },
    {
     "name": "stdout",
     "output_type": "stream",
     "text": [
      "Process C\n"
     ]
    },
    {
     "name": "stdin",
     "output_type": "stream",
     "text": [
      "Input Burst Time:  2\n",
      "Input Arrival Time:  3\n",
      "Input Priority (lower value = higher priority):  1\n"
     ]
    }
   ],
   "source": [
    "while True:\n",
    "    try:\n",
    "        quantProcess = int(input(\"Input how many processes you will input: \"))\n",
    "        break\n",
    "    except:\n",
    "        print(\"PLEASE INPUT INTEGERS!!!\")\n",
    "\n",
    "taskChar = 'A'\n",
    "taskArr = []\n",
    "\n",
    "for x in range(quantProcess):\n",
    "    print(f\"Process {taskChar}\")\n",
    "\n",
    "    while True:\n",
    "        try:\n",
    "            bt = int(input(\"Input Burst Time: \"))\n",
    "            break\n",
    "        except:\n",
    "            print(\"Please input integers!!!\")\n",
    "\n",
    "    while True:\n",
    "        try:\n",
    "            at = int(input(\"Input Arrival Time: \"))\n",
    "            break\n",
    "        except:\n",
    "            print(\"Please input integers!!!\")\n",
    "\n",
    "    while True:\n",
    "        try:\n",
    "            pr = int(input(\"Input Priority (lower value = higher priority): \"))\n",
    "            break\n",
    "        except:\n",
    "            print(\"Please input integers!!!\")\n",
    "\n",
    "    taskArr.append(Task(taskChar, bt, at, pr))\n",
    "    taskChar = chr(ord(taskChar) + 1)\n",
    "\n",
    "finalProcess = Process(taskArr)"
   ]
  },
  {
   "cell_type": "code",
   "execution_count": 5,
   "id": "2c00ae53",
   "metadata": {
    "colab": {
     "base_uri": "https://localhost:8080/"
    },
    "id": "2c00ae53",
    "outputId": "d37436a7-3689-48db-c4ba-30d107ebf48b"
   },
   "outputs": [
    {
     "name": "stdout",
     "output_type": "stream",
     "text": [
      "{ Process: A, Burst Time: 4, Arrival Time: 0, Priority: 3, Waiting Time: 0, CompletionTime: 0, Turn Around Time: 0 }\n",
      "{ Process: B, Burst Time: 5, Arrival Time: 3, Priority: 1, Waiting Time: 0, CompletionTime: 0, Turn Around Time: 0 }\n",
      "{ Process: C, Burst Time: 2, Arrival Time: 3, Priority: 1, Waiting Time: 0, CompletionTime: 0, Turn Around Time: 0 }\n"
     ]
    }
   ],
   "source": [
    "def printTasks(Object):\n",
    "    for obj in Object.processArr:\n",
    "        print(obj)\n",
    "\n",
    "printTasks(finalProcess)"
   ]
  },
  {
   "cell_type": "code",
   "execution_count": 6,
   "id": "3a50979c",
   "metadata": {
    "id": "3a50979c"
   },
   "outputs": [],
   "source": [
    "\n",
    "def startProcess(Object):\n",
    "    Object.processArr.sort(key=lambda p: (p.arrivalTime, p.priority))\n",
    "\n",
    "    startTime = 0\n",
    "    completed_tasks = []\n",
    "    pending_tasks = Object.processArr.copy()\n",
    "\n",
    "    while pending_tasks:\n",
    "        # Select tasks that have arrived and not yet completed\n",
    "        available_tasks = [task for task in pending_tasks if task.arrivalTime <= startTime]\n",
    "\n",
    "        if available_tasks:\n",
    "            # Sort available tasks by priority (lower value = higher priority)\n",
    "            available_tasks.sort(key=lambda p: p.priority)\n",
    "\n",
    "            # Pick the task with the highest priority\n",
    "            current_task = available_tasks[0]\n",
    "            pending_tasks.remove(current_task)\n",
    "\n",
    "            # Execute the task\n",
    "            current_task.calculateAttributes(startTime + current_task.burstTime)\n",
    "            startTime += current_task.burstTime\n",
    "            completed_tasks.append(current_task)\n",
    "        else:\n",
    "            # If no tasks are available, increment time to next task's arrival\n",
    "            startTime += 1\n",
    "\n",
    "    Object.processArr = completed_tasks\n",
    "    Object.totalTime = startTime\n",
    "\n",
    "\n",
    "startProcess(finalProcess)"
   ]
  },
  {
   "cell_type": "code",
   "execution_count": 7,
   "id": "1b3b9fb0",
   "metadata": {
    "colab": {
     "base_uri": "https://localhost:8080/"
    },
    "id": "1b3b9fb0",
    "outputId": "c58d0912-b8db-44d5-89bb-e140e00930f6"
   },
   "outputs": [
    {
     "name": "stdout",
     "output_type": "stream",
     "text": [
      "  Process  Arrival  Burst  Completion  Waiting  Turn Around\n",
      "0       A        0      4           4        0            4\n",
      "1       B        3      5           9        1            6\n",
      "2       C        3      2          11        6            8\n"
     ]
    }
   ],
   "source": [
    "df = finalProcess.to_dataFrame()\n",
    "print(df)"
   ]
  },
  {
   "cell_type": "code",
   "execution_count": 8,
   "id": "719936e3",
   "metadata": {
    "colab": {
     "base_uri": "https://localhost:8080/",
     "height": 472
    },
    "id": "719936e3",
    "outputId": "a7f74ee9-8370-4e71-9ac9-0a1f75c419c8"
   },
   "outputs": [
    {
     "data": {
      "image/png": "[encoded data removed]",
      "text/plain": [
       "<Figure size 640x480 with 1 Axes>"
      ]
     },
     "metadata": {},
     "output_type": "display_data"
    }
   ],
   "source": [
    "# Plot Gantt Chart\n",
    "fig, gnt = plt.subplots()\n",
    "\n",
    "plt.barh(y=df['Process'], width=df['Burst'], left=df['Arrival'] + df['Waiting'], color=\"orange\", label=\"Burst Time\", zorder=3)\n",
    "plt.barh(y=df['Process'], width=df['Waiting'], left=df['Arrival'], color=\"skyblue\", label=\"Waiting Time\", zorder=3)\n",
    "\n",
    "plt.title(\"Priority Non-Preemptive CPU Schedule Gantt Chart\")\n",
    "plt.gca().invert_yaxis()\n",
    "gnt.grid(True, zorder=1)\n",
    "gnt.set_ylabel(\"Process\")\n",
    "gnt.set_xlabel(\"Time (s)\")\n",
    "# Set ticks and labels consistently\n",
    "ticks = range(0, int(finalProcess.totalTime) + 1)  # Ensure ticks cover the entire range of time\n",
    "gnt.set_xticks(ticks)\n",
    "\n",
    "# Generate labels for every 3rd tick\n",
    "labels = [str(x) if x % 3 == 0 else \"\" for x in ticks]  # Empty string for non-3-multiple ticks\n",
    "gnt.set_xticklabels(labels, rotation=0)\n",
    "plt.legend(title=\"Time Type\")\n",
    "plt.ioff()\n",
    "plt.gcf().savefig(fname=\"Plot Figures/NP_PRIORITY\", pad_inches=0.3)\n",
    "plt.show()"
   ]
  },
  {
   "cell_type": "code",
   "execution_count": 9,
   "id": "4a3bb0f1-8f0e-4abf-b199-975329de926f",
   "metadata": {
    "colab": {
     "base_uri": "https://localhost:8080/"
    },
    "id": "4a3bb0f1-8f0e-4abf-b199-975329de926f",
    "outputId": "368b4858-8970-4d0e-e7f7-d6be4ed0f2da"
   },
   "outputs": [
    {
     "name": "stdout",
     "output_type": "stream",
     "text": [
      "Average Waiting Time: 2.33 s\n",
      "Total Time: 11 s\n"
     ]
    }
   ],
   "source": [
    "print(\"Average Waiting Time:\", finalProcess.calculateAverageWaitingTime(), \"s\")\n",
    "print(\"Total Time:\", int(finalProcess.totalTime), \"s\")"
   ]
  }
 ],
 "metadata": {
  "colab": {
   "include_colab_link": true,
   "provenance": []
  },
  "kernelspec": {
   "display_name": "Python 3 (ipykernel)",
   "language": "python",
   "name": "python3"
  },
  "language_info": {
   "codemirror_mode": {
    "name": "ipython",
    "version": 3
   },
   "file_extension": ".py",
   "mimetype": "text/x-python",
   "name": "python",
   "nbconvert_exporter": "python",
   "pygments_lexer": "ipython3",
   "version": "3.9.20"
  }
 },
 "nbformat": 4,
 "nbformat_minor": 5
}
