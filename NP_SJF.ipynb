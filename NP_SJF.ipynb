{
  "cells": [
    {
      "cell_type": "markdown",
      "metadata": {
        "id": "view-in-github",
        "colab_type": "text"
      },
      "source": [
        "<a href=\"https://colab.research.google.com/github/keylperez/SchedulingAlgorithms/blob/main/NP_SJF.ipynb\" target=\"_parent\"><img src=\"https://colab.research.google.com/assets/colab-badge.svg\" alt=\"Open In Colab\"/></a>"
      ]
    },
    {
      "cell_type": "markdown",
      "source": [
        "Shortest Job First"
      ],
      "metadata": {
        "id": "bN2UMKxWZskj"
      },
      "id": "bN2UMKxWZskj"
    },
    {
      "cell_type": "code",
      "execution_count": null,
      "id": "e97c63d6",
      "metadata": {
        "id": "e97c63d6"
      },
      "outputs": [],
      "source": [
        "import time\n",
        "import pandas as pd\n",
        "import matplotlib.pyplot as plt"
      ]
    },
    {
      "cell_type": "code",
      "execution_count": null,
      "id": "e52815c8",
      "metadata": {
        "id": "e52815c8"
      },
      "outputs": [],
      "source": [
        "class Process:\n",
        "    def __init__(self, array):\n",
        "        self.processArr = array\n",
        "        self.averageWaitingTime = 0\n",
        "        self.totalTime = 0\n",
        "\n",
        "    def calculateAverageWaitingTime(self):\n",
        "        sum = 0\n",
        "        for task in self.processArr:\n",
        "            sum += task.waitingTime\n",
        "        return sum/len(self.processArr)\n",
        "\n",
        "    def to_dataFrame(self):\n",
        "        data = []\n",
        "        for task in self.processArr:\n",
        "            data.append({\n",
        "                'Process': task.processChar,\n",
        "                'Arrival': task.arrivalTime,\n",
        "                'Burst': task.burstTime,\n",
        "                'Completion': task.completionTime,\n",
        "                'Waiting': task.waitingTime,\n",
        "                'Turn Around': task.turnAroundTime\n",
        "            })\n",
        "        return pd.DataFrame(data)\n",
        "\n",
        "class Task:\n",
        "    def __init__(self, processChar, burstTime, arrivalTime):\n",
        "        self.processChar = processChar\n",
        "        self.burstTime = burstTime\n",
        "        self.arrivalTime = arrivalTime\n",
        "        self.completionTime = 0\n",
        "        self.turnAroundTime = 0\n",
        "        self.waitingTime = 0\n",
        "\n",
        "    def calculateAttributes(self, time):\n",
        "        self.completionTime = time\n",
        "        self.turnAroundTime = self.completionTime - self.arrivalTime\n",
        "        self.waitingTime = self.turnAroundTime - self.burstTime\n",
        "\n",
        "    def incrementWait(self):\n",
        "        self.waitingTime += 1\n",
        "        return self.waitingTime\n",
        "\n",
        "    def __repr__(self):\n",
        "        return f\"{{ Process: {self.processChar}, Burst Time: {self.burstTime}, Arrival Time: {self.arrivalTime}, Waiting Time: {self.waitingTime}, CompletionTime: {self.completionTime} Turn Around Time: {self.turnAroundTime} }}\""
      ]
    },
    {
      "cell_type": "code",
      "execution_count": null,
      "id": "b1ed2f80",
      "metadata": {
        "id": "b1ed2f80",
        "outputId": "cf9b4a9e-1f5d-46b4-ad0a-81d965ec25fb",
        "colab": {
          "base_uri": "https://localhost:8080/"
        }
      },
      "outputs": [
        {
          "name": "stdout",
          "output_type": "stream",
          "text": [
            "Input how many process you will input: 3\n",
            "Process A\n",
            "Input Burst Time: 3\n",
            "Input Arrival Time: 7\n",
            "Process B\n",
            "Input Burst Time: 5\n",
            "Input Arrival Time: 0\n",
            "Process C\n",
            "Input Burst Time: 3\n",
            "Input Arrival Time: \n",
            "Please input integers!!!\n",
            "Input Arrival Time: 1\n"
          ]
        }
      ],
      "source": [
        "while True:\n",
        "    try:\n",
        "        quantProcess = int(input(\"Input how many process you will input: \"))\n",
        "        break\n",
        "    except:\n",
        "        print(\"PLEASE INPUT INTEGERS!!!\")\n",
        "\n",
        "\n",
        "taskChar = 'A'\n",
        "taskArr = []\n",
        "\n",
        "for x in range(quantProcess):\n",
        "    print(\"Process \" + taskChar)\n",
        "\n",
        "    while True:\n",
        "        try:\n",
        "            bt = int(input(\"Input Burst Time: \"))\n",
        "            break\n",
        "        except:\n",
        "            print(\"Please input integers!!!\")\n",
        "\n",
        "    while True:\n",
        "        try:\n",
        "            at = int(input(\"Input Arrival Time: \"))\n",
        "            break\n",
        "        except:\n",
        "            print(\"Please input integers!!!\")\n",
        "\n",
        "    taskArr.append(Task(taskChar, bt, at))\n",
        "    taskChar = chr(ord(taskChar) + 1)1\n",
        "\n",
        "finalProcess = Process(taskArr)"
      ]
    },
    {
      "cell_type": "code",
      "execution_count": null,
      "id": "2c00ae53",
      "metadata": {
        "id": "2c00ae53",
        "outputId": "c506cb32-c7a6-4b7a-8e07-826d76325b36",
        "colab": {
          "base_uri": "https://localhost:8080/"
        }
      },
      "outputs": [
        {
          "output_type": "stream",
          "name": "stdout",
          "text": [
            "{ Process: A, Burst Time: 3, Arrival Time: 7, Waiting Time: 0, CompletionTime: 0 Turn Around Time: 0 }\n",
            "{ Process: B, Burst Time: 5, Arrival Time: 0, Waiting Time: 0, CompletionTime: 0 Turn Around Time: 0 }\n",
            "{ Process: C, Burst Time: 3, Arrival Time: 1, Waiting Time: 0, CompletionTime: 0 Turn Around Time: 0 }\n"
          ]
        }
      ],
      "source": [
        "def printTasks(Object):\n",
        "    for obj in Object.processArr:\n",
        "        print(obj)\n",
        "\n",
        "printTasks(finalProcess)"
      ]
    },
    {
      "cell_type": "code",
      "execution_count": null,
      "id": "3a50979c",
      "metadata": {
        "id": "3a50979c"
      },
      "outputs": [],
      "source": [
        "\n",
        "def startProcess(Object):\n",
        "\n",
        "    Object.processArr.sort(key=lambda p: (p.arrivalTime, p.burstTime))\n",
        "\n",
        "    startTime = 0\n",
        "    completed_tasks = []\n",
        "    pending_tasks = Object.processArr.copy()\n",
        "\n",
        "\n",
        "    while pending_tasks:\n",
        "        # Select tasks that have arrived and not yet completed\n",
        "        available_tasks = [task for task in pending_tasks if task.arrivalTime <= startTime]\n",
        "\n",
        "        if available_tasks:\n",
        "            # Sort available tasks by burst time (Shortest Job First)\n",
        "            available_tasks.sort(key=lambda p: p.burstTime)\n",
        "\n",
        "            # Pick the task with the shortest burst time\n",
        "            current_task = available_tasks[0]\n",
        "            pending_tasks.remove(current_task)\n",
        "\n",
        "            # Execute the task\n",
        "            current_task.calculateAttributes(startTime + current_task.burstTime)\n",
        "            startTime += current_task.burstTime\n",
        "            completed_tasks.append(current_task)\n",
        "        else:\n",
        "            # If no tasks are available, increment time to next task's arrival\n",
        "            startTime += 1\n",
        "\n",
        "    Object.processArr = completed_tasks\n",
        "    Object.totalTime = startTime\n",
        "\n",
        "startProcess(finalProcess)"
      ]
    },
    {
      "cell_type": "code",
      "execution_count": null,
      "id": "1b3b9fb0",
      "metadata": {
        "id": "1b3b9fb0",
        "outputId": "ad5fef42-d1bc-42b6-9364-07f967bf153c",
        "colab": {
          "base_uri": "https://localhost:8080/"
        }
      },
      "outputs": [
        {
          "output_type": "stream",
          "name": "stdout",
          "text": [
            "  Process  Arrival  Burst  Completion  Waiting  Turn Around\n",
            "0       B        0      5           5        0            5\n",
            "1       C        1      3           8        4            7\n",
            "2       A        7      3          11        1            4\n"
          ]
        }
      ],
      "source": [
        "df = finalProcess.to_dataFrame()\n",
        "print(df)"
      ]
    },
    {
      "cell_type": "code",
      "execution_count": null,
      "id": "719936e3",
      "metadata": {
        "id": "719936e3",
        "outputId": "c420ca74-e953-46e3-936e-91889e4117e2",
        "colab": {
          "base_uri": "https://localhost:8080/",
          "height": 879
        }
      },
      "outputs": [
        {
          "output_type": "error",
          "ename": "ValueError",
          "evalue": "The number of FixedLocator locations (11), usually from a call to set_ticks, does not match the number of labels (4).",
          "traceback": [
            "\u001b[0;31m---------------------------------------------------------------------------\u001b[0m",
            "\u001b[0;31mValueError\u001b[0m                                Traceback (most recent call last)",
            "\u001b[0;32m<ipython-input-33-4c209db98eaa>\u001b[0m in \u001b[0;36m<cell line: 14>\u001b[0;34m()\u001b[0m\n\u001b[1;32m     12\u001b[0m \u001b[0mgnt\u001b[0m\u001b[0;34m.\u001b[0m\u001b[0mset_xlabel\u001b[0m\u001b[0;34m(\u001b[0m\u001b[0;34m\"Time (s)\"\u001b[0m\u001b[0;34m)\u001b[0m\u001b[0;34m\u001b[0m\u001b[0;34m\u001b[0m\u001b[0m\n\u001b[1;32m     13\u001b[0m \u001b[0mgnt\u001b[0m\u001b[0;34m.\u001b[0m\u001b[0mset_xticks\u001b[0m\u001b[0;34m(\u001b[0m\u001b[0mrange\u001b[0m\u001b[0;34m(\u001b[0m\u001b[0;36m0\u001b[0m\u001b[0;34m,\u001b[0m \u001b[0mint\u001b[0m\u001b[0;34m(\u001b[0m\u001b[0mfinalProcess\u001b[0m\u001b[0;34m.\u001b[0m\u001b[0mtotalTime\u001b[0m\u001b[0;34m)\u001b[0m\u001b[0;34m)\u001b[0m\u001b[0;34m)\u001b[0m\u001b[0;34m\u001b[0m\u001b[0;34m\u001b[0m\u001b[0m\n\u001b[0;32m---> 14\u001b[0;31m \u001b[0mgnt\u001b[0m\u001b[0;34m.\u001b[0m\u001b[0mset_xticklabels\u001b[0m\u001b[0;34m(\u001b[0m\u001b[0mrange\u001b[0m\u001b[0;34m(\u001b[0m\u001b[0;36m0\u001b[0m\u001b[0;34m,\u001b[0m \u001b[0mint\u001b[0m\u001b[0;34m(\u001b[0m\u001b[0mfinalProcess\u001b[0m\u001b[0;34m.\u001b[0m\u001b[0mtotalTime\u001b[0m\u001b[0;34m)\u001b[0m\u001b[0;34m,\u001b[0m \u001b[0;36m3\u001b[0m\u001b[0;34m)\u001b[0m\u001b[0;34m,\u001b[0m \u001b[0mminor\u001b[0m\u001b[0;34m=\u001b[0m\u001b[0;32mFalse\u001b[0m\u001b[0;34m,\u001b[0m \u001b[0mrotation\u001b[0m\u001b[0;34m=\u001b[0m\u001b[0;36m0\u001b[0m\u001b[0;34m,\u001b[0m \u001b[0mfontsize\u001b[0m\u001b[0;34m=\u001b[0m\u001b[0;32mNone\u001b[0m\u001b[0;34m)\u001b[0m\u001b[0;34m\u001b[0m\u001b[0;34m\u001b[0m\u001b[0m\n\u001b[0m\u001b[1;32m     15\u001b[0m \u001b[0;34m\u001b[0m\u001b[0m\n\u001b[1;32m     16\u001b[0m \u001b[0mplt\u001b[0m\u001b[0;34m.\u001b[0m\u001b[0mlegend\u001b[0m\u001b[0;34m(\u001b[0m\u001b[0mtitle\u001b[0m\u001b[0;34m=\u001b[0m\u001b[0;34m\"Time Type\"\u001b[0m\u001b[0;34m)\u001b[0m\u001b[0;34m\u001b[0m\u001b[0;34m\u001b[0m\u001b[0m\n",
            "\u001b[0;32m/usr/local/lib/python3.10/dist-packages/matplotlib/axes/_base.py\u001b[0m in \u001b[0;36mwrapper\u001b[0;34m(self, *args, **kwargs)\u001b[0m\n\u001b[1;32m     71\u001b[0m \u001b[0;34m\u001b[0m\u001b[0m\n\u001b[1;32m     72\u001b[0m         \u001b[0;32mdef\u001b[0m \u001b[0mwrapper\u001b[0m\u001b[0;34m(\u001b[0m\u001b[0mself\u001b[0m\u001b[0;34m,\u001b[0m \u001b[0;34m*\u001b[0m\u001b[0margs\u001b[0m\u001b[0;34m,\u001b[0m \u001b[0;34m**\u001b[0m\u001b[0mkwargs\u001b[0m\u001b[0;34m)\u001b[0m\u001b[0;34m:\u001b[0m\u001b[0;34m\u001b[0m\u001b[0;34m\u001b[0m\u001b[0m\n\u001b[0;32m---> 73\u001b[0;31m             \u001b[0;32mreturn\u001b[0m \u001b[0mget_method\u001b[0m\u001b[0;34m(\u001b[0m\u001b[0mself\u001b[0m\u001b[0;34m)\u001b[0m\u001b[0;34m(\u001b[0m\u001b[0;34m*\u001b[0m\u001b[0margs\u001b[0m\u001b[0;34m,\u001b[0m \u001b[0;34m**\u001b[0m\u001b[0mkwargs\u001b[0m\u001b[0;34m)\u001b[0m\u001b[0;34m\u001b[0m\u001b[0;34m\u001b[0m\u001b[0m\n\u001b[0m\u001b[1;32m     74\u001b[0m \u001b[0;34m\u001b[0m\u001b[0m\n\u001b[1;32m     75\u001b[0m         \u001b[0mwrapper\u001b[0m\u001b[0;34m.\u001b[0m\u001b[0m__module__\u001b[0m \u001b[0;34m=\u001b[0m \u001b[0mowner\u001b[0m\u001b[0;34m.\u001b[0m\u001b[0m__module__\u001b[0m\u001b[0;34m\u001b[0m\u001b[0;34m\u001b[0m\u001b[0m\n",
            "\u001b[0;32m/usr/local/lib/python3.10/dist-packages/matplotlib/_api/deprecation.py\u001b[0m in \u001b[0;36mwrapper\u001b[0;34m(*args, **kwargs)\u001b[0m\n\u001b[1;32m    295\u001b[0m                 f\"for the old name will be dropped %(removal)s.\")\n\u001b[1;32m    296\u001b[0m             \u001b[0mkwargs\u001b[0m\u001b[0;34m[\u001b[0m\u001b[0mnew\u001b[0m\u001b[0;34m]\u001b[0m \u001b[0;34m=\u001b[0m \u001b[0mkwargs\u001b[0m\u001b[0;34m.\u001b[0m\u001b[0mpop\u001b[0m\u001b[0;34m(\u001b[0m\u001b[0mold\u001b[0m\u001b[0;34m)\u001b[0m\u001b[0;34m\u001b[0m\u001b[0;34m\u001b[0m\u001b[0m\n\u001b[0;32m--> 297\u001b[0;31m         \u001b[0;32mreturn\u001b[0m \u001b[0mfunc\u001b[0m\u001b[0;34m(\u001b[0m\u001b[0;34m*\u001b[0m\u001b[0margs\u001b[0m\u001b[0;34m,\u001b[0m \u001b[0;34m**\u001b[0m\u001b[0mkwargs\u001b[0m\u001b[0;34m)\u001b[0m\u001b[0;34m\u001b[0m\u001b[0;34m\u001b[0m\u001b[0m\n\u001b[0m\u001b[1;32m    298\u001b[0m \u001b[0;34m\u001b[0m\u001b[0m\n\u001b[1;32m    299\u001b[0m     \u001b[0;31m# wrapper() must keep the same documented signature as func(): if we\u001b[0m\u001b[0;34m\u001b[0m\u001b[0;34m\u001b[0m\u001b[0m\n",
            "\u001b[0;32m/usr/local/lib/python3.10/dist-packages/matplotlib/axis.py\u001b[0m in \u001b[0;36mset_ticklabels\u001b[0;34m(self, labels, minor, fontdict, **kwargs)\u001b[0m\n\u001b[1;32m   2023\u001b[0m             \u001b[0;31m# remove all tick labels, so only error for > 0 labels\u001b[0m\u001b[0;34m\u001b[0m\u001b[0;34m\u001b[0m\u001b[0m\n\u001b[1;32m   2024\u001b[0m             \u001b[0;32mif\u001b[0m \u001b[0mlen\u001b[0m\u001b[0;34m(\u001b[0m\u001b[0mlocator\u001b[0m\u001b[0;34m.\u001b[0m\u001b[0mlocs\u001b[0m\u001b[0;34m)\u001b[0m \u001b[0;34m!=\u001b[0m \u001b[0mlen\u001b[0m\u001b[0;34m(\u001b[0m\u001b[0mlabels\u001b[0m\u001b[0;34m)\u001b[0m \u001b[0;32mand\u001b[0m \u001b[0mlen\u001b[0m\u001b[0;34m(\u001b[0m\u001b[0mlabels\u001b[0m\u001b[0;34m)\u001b[0m \u001b[0;34m!=\u001b[0m \u001b[0;36m0\u001b[0m\u001b[0;34m:\u001b[0m\u001b[0;34m\u001b[0m\u001b[0;34m\u001b[0m\u001b[0m\n\u001b[0;32m-> 2025\u001b[0;31m                 raise ValueError(\n\u001b[0m\u001b[1;32m   2026\u001b[0m                     \u001b[0;34m\"The number of FixedLocator locations\"\u001b[0m\u001b[0;34m\u001b[0m\u001b[0;34m\u001b[0m\u001b[0m\n\u001b[1;32m   2027\u001b[0m                     \u001b[0;34mf\" ({len(locator.locs)}), usually from a call to\"\u001b[0m\u001b[0;34m\u001b[0m\u001b[0;34m\u001b[0m\u001b[0m\n",
            "\u001b[0;31mValueError\u001b[0m: The number of FixedLocator locations (11), usually from a call to set_ticks, does not match the number of labels (4)."
          ]
        },
        {
          "output_type": "display_data",
          "data": {
            "text/plain": [
              "<Figure size 640x480 with 1 Axes>"
            ],
            "image/png": "[encoded data removed]"
          },
          "metadata": {}
        }
      ],
      "source": [
        "# Plot Gantt Chart\n",
        "df = finalProcess.to_dataFrame()\n",
        "fig, gnt = plt.subplots()\n",
        "\n",
        "plt.barh(y=df['Process'], width=df['Burst'], left=df['Arrival'] + df['Waiting'], color=\"orange\", label=\"Burst Time\", zorder=3)\n",
        "plt.barh(y=df['Process'], width=df['Waiting'], left=df['Arrival'], color=\"skyblue\", label=\"Waiting Time\", zorder=3)\n",
        "\n",
        "plt.title(\"Shortest Job First CPU Schedule Gantt Chart\")\n",
        "plt.gca().invert_yaxis()\n",
        "gnt.grid(True, zorder=1)\n",
        "gnt.set_ylabel(\"Process\")\n",
        "gnt.set_xlabel(\"Time (s)\")\n",
        "gnt.set_xticks(range(0, int(finalProcess.totalTime)))\n",
        "gnt.set_xticklabels(range(0, int(finalProcess.totalTime), 3), minor=False, rotation=0, fontsize=None)\n",
        "\n",
        "plt.legend(title=\"Time Type\")\n",
        "plt.show()"
      ]
    },
    {
      "cell_type": "code",
      "execution_count": null,
      "id": "4a3bb0f1-8f0e-4abf-b199-975329de926f",
      "metadata": {
        "id": "4a3bb0f1-8f0e-4abf-b199-975329de926f",
        "outputId": "ca7d8fbb-0c66-45a0-b4af-0d264c8be7c6",
        "colab": {
          "base_uri": "https://localhost:8080/"
        }
      },
      "outputs": [
        {
          "output_type": "stream",
          "name": "stdout",
          "text": [
            "Average Waiting Time: 1.6666666666666667 s\n",
            "Total Time: 11 s\n"
          ]
        }
      ],
      "source": [
        "print(\"Average Waiting Time:\", finalProcess.calculateAverageWaitingTime(), \"s\")\n",
        "print(\"Total Time:\", int(finalProcess.totalTime), \"s\")"
      ]
    },
    {
      "cell_type": "code",
      "execution_count": null,
      "id": "5fa146c4-d4a5-44c1-9f11-333f0a7fe36f",
      "metadata": {
        "id": "5fa146c4-d4a5-44c1-9f11-333f0a7fe36f"
      },
      "outputs": [],
      "source": []
    }
  ],
  "metadata": {
    "kernelspec": {
      "display_name": "Python 3 (ipykernel)",
      "language": "python",
      "name": "python3"
    },
    "language_info": {
      "codemirror_mode": {
        "name": "ipython",
        "version": 3
      },
      "file_extension": ".py",
      "mimetype": "text/x-python",
      "name": "python",
      "nbconvert_exporter": "python",
      "pygments_lexer": "ipython3",
      "version": "3.9.20"
    },
    "colab": {
      "provenance": [],
      "include_colab_link": true
    }
  },
  "nbformat": 4,
  "nbformat_minor": 5
}