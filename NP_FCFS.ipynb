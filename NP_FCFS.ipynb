{
 "cells": [
  {
   "cell_type": "code",
   "execution_count": 1,
   "id": "e97c63d6",
   "metadata": {},
   "outputs": [],
   "source": [
    "import time\n",
    "import pandas as pd\n",
    "import matplotlib.pyplot as plt"
   ]
  },
  {
   "cell_type": "code",
   "execution_count": 2,
   "id": "e52815c8",
   "metadata": {},
   "outputs": [],
   "source": [
    "class Process:\n",
    "    def __init__(self, array):\n",
    "        self.processArr = array\n",
    "        self.averageWaitingTime = 0\n",
    "        self.totalTime = 0\n",
    "    def calculateAverageWaitingTime(self):\n",
    "        sum = 0\n",
    "        for task in self.processArr:\n",
    "            sum += task.waitingTime\n",
    "        return sum/len(self.processArr)\n",
    "    def to_dataFrame(self):\n",
    "        data = []\n",
    "        for task in self.processArr:\n",
    "            data.append({\n",
    "                'Process': task.processChar,\n",
    "                'Arrival': task.arrivalTime,\n",
    "                'Burst': task.burstTime,\n",
    "                'Completion': task.completionTime,\n",
    "                'Waiting': task.waitingTime,\n",
    "                'Turn Around': task.turnAroundTime\n",
    "            })\n",
    "        return pd.DataFrame(data)\n",
    "        \n",
    "class Task:\n",
    "    def __init__(self, processChar, burstTime, arrivalTime):\n",
    "        self.processChar = processChar\n",
    "        self.burstTime = burstTime\n",
    "        self.arrivalTime = arrivalTime\n",
    "        self.completionTime = 0\n",
    "        self.turnAroundTime = 0\n",
    "        self.waitingTime = 0\n",
    "    def calculateAttributes(self, time):\n",
    "        self.completionTime = time\n",
    "        self.turnAroundTime = self.completionTime - self.arrivalTime\n",
    "        self.waitingTime = self.turnAroundTime - self.burstTime\n",
    "    def incrementWait(self):\n",
    "        self.waitingTime += 1\n",
    "        return self.waitingTime\n",
    "    def __repr__(self):  # Or use __str__ for a similar effect\n",
    "        return f\"{{ Process: {self.processChar}, Burst Time: {self.burstTime}, Arrival Time: {self.arrivalTime}, Waiting Time: {self.waitingTime}, CompletionTime: {self.completionTime} Turn Around Time: {self.turnAroundTime} }}\""
   ]
  },
  {
   "cell_type": "code",
   "execution_count": 3,
   "id": "b1ed2f80",
   "metadata": {},
   "outputs": [
    {
     "name": "stdin",
     "output_type": "stream",
     "text": [
      "Input how many process you will input:  5\n"
     ]
    },
    {
     "name": "stdout",
     "output_type": "stream",
     "text": [
      "Process A\n"
     ]
    },
    {
     "name": "stdin",
     "output_type": "stream",
     "text": [
      "Input Burst Time:  7\n",
      "Input Arrival Time:  9\n"
     ]
    },
    {
     "name": "stdout",
     "output_type": "stream",
     "text": [
      "Process B\n"
     ]
    },
    {
     "name": "stdin",
     "output_type": "stream",
     "text": [
      "Input Burst Time:  2\n",
      "Input Arrival Time:  11\n"
     ]
    },
    {
     "name": "stdout",
     "output_type": "stream",
     "text": [
      "Process C\n"
     ]
    },
    {
     "name": "stdin",
     "output_type": "stream",
     "text": [
      "Input Burst Time:  2\n",
      "Input Arrival Time:  15\n"
     ]
    },
    {
     "name": "stdout",
     "output_type": "stream",
     "text": [
      "Process D\n"
     ]
    },
    {
     "name": "stdin",
     "output_type": "stream",
     "text": [
      "Input Burst Time:  6\n",
      "Input Arrival Time:  3\n"
     ]
    },
    {
     "name": "stdout",
     "output_type": "stream",
     "text": [
      "Process E\n"
     ]
    },
    {
     "name": "stdin",
     "output_type": "stream",
     "text": [
      "Input Burst Time:  4\n",
      "Input Arrival Time:  5\n"
     ]
    }
   ],
   "source": [
    "while True:\n",
    "    try:\n",
    "        quantProcess = int(input(\"Input how many process you will input: \"))\n",
    "        break\n",
    "    except:\n",
    "        print(\"PLEASE INPUT INTEGERS!!!\")\n",
    "        \n",
    "\n",
    "taskChar = 'A'\n",
    "taskArr = []\n",
    "\n",
    "for x in range(quantProcess):\n",
    "    print(\"Process \" + taskChar)\n",
    "    \n",
    "    while True:\n",
    "        try:\n",
    "            bt = int(input(\"Input Burst Time: \"))\n",
    "            break\n",
    "        except:\n",
    "            print(\"Please input integers!!!\")\n",
    "            \n",
    "    while True:\n",
    "        try:\n",
    "            at = int(input(\"Input Arrival Time: \"))\n",
    "            break\n",
    "        except:\n",
    "            print(\"Please input integers!!!\")\n",
    "            \n",
    "    taskArr.append(Task(taskChar, bt, at))\n",
    "    taskChar = chr(ord(taskChar) + 1)\n",
    "    \n",
    "finalProcess = Process(taskArr)"
   ]
  },
  {
   "cell_type": "code",
   "execution_count": 4,
   "id": "2c00ae53",
   "metadata": {},
   "outputs": [
    {
     "name": "stdout",
     "output_type": "stream",
     "text": [
      "{ Process: A, Burst Time: 7, Arrival Time: 9, Waiting Time: 0, CompletionTime: 0 Turn Around Time: 0 }\n",
      "{ Process: B, Burst Time: 2, Arrival Time: 11, Waiting Time: 0, CompletionTime: 0 Turn Around Time: 0 }\n",
      "{ Process: C, Burst Time: 2, Arrival Time: 15, Waiting Time: 0, CompletionTime: 0 Turn Around Time: 0 }\n",
      "{ Process: D, Burst Time: 6, Arrival Time: 3, Waiting Time: 0, CompletionTime: 0 Turn Around Time: 0 }\n",
      "{ Process: E, Burst Time: 4, Arrival Time: 5, Waiting Time: 0, CompletionTime: 0 Turn Around Time: 0 }\n"
     ]
    }
   ],
   "source": [
    "def printTasks(Object):\n",
    "    for obj in Object.processArr:\n",
    "        print(obj)\n",
    "        \n",
    "printTasks(finalProcess)"
   ]
  },
  {
   "cell_type": "code",
   "execution_count": 5,
   "id": "3a50979c",
   "metadata": {},
   "outputs": [
    {
     "name": "stdout",
     "output_type": "stream",
     "text": [
      "0s\n",
      "1s\n",
      "2s\n",
      "3s\n",
      "D - 6\n",
      "4s\n",
      "D - 5\n",
      "5s\n",
      "D - 4\n",
      "6s\n",
      "D - 3\n",
      "7s\n",
      "D - 2\n",
      "8s\n",
      "D - 1\n",
      "9s\n",
      "D - 0\n",
      "9s\n",
      "E - 4\n",
      "10s\n",
      "E - 3\n",
      "11s\n",
      "E - 2\n",
      "12s\n",
      "E - 1\n",
      "13s\n",
      "E - 0\n",
      "13s\n",
      "A - 7\n",
      "14s\n",
      "A - 6\n",
      "15s\n",
      "A - 5\n",
      "16s\n",
      "A - 4\n",
      "17s\n",
      "A - 3\n",
      "18s\n",
      "A - 2\n",
      "19s\n",
      "A - 1\n",
      "20s\n",
      "A - 0\n",
      "20s\n",
      "B - 2\n",
      "21s\n",
      "B - 1\n",
      "22s\n",
      "B - 0\n",
      "22s\n",
      "C - 2\n",
      "23s\n",
      "C - 1\n",
      "24s\n",
      "C - 0\n"
     ]
    }
   ],
   "source": [
    "def startProcess(Object):\n",
    "    \n",
    "    Object.processArr.sort(key=lambda p: p.arrivalTime)\n",
    "    startTime = time.time()\n",
    "    \n",
    "    for task in Object.processArr:\n",
    "        \n",
    "        currTime = int(time.time() - startTime)\n",
    "\n",
    "        try: \n",
    "            while currTime < task.arrivalTime:\n",
    "                print(currTime, end=\"s\\n\")\n",
    "                time.sleep(1)\n",
    "                currTime = int(time.time() - startTime)\n",
    "        except:\n",
    "            print(\"Something is wrong\")\n",
    "\n",
    "        burstStart = task.burstTime\n",
    "        while burstStart >= 0:\n",
    "            currTime = int(time.time() - startTime)\n",
    "            print(currTime, end=\"s\\n\")\n",
    "            print(task.processChar, burstStart, sep=\" - \")\n",
    "            burstStart -= 1\n",
    "            if burstStart < 0: \n",
    "                task.calculateAttributes(int(time.time() - startTime))\n",
    "            else:\n",
    "                time.sleep(1)\n",
    "\n",
    "    Object.totalTime = time.time() - startTime\n",
    "    Object.processArr.sort(key=lambda p: p.processChar)\n",
    "\n",
    "startProcess(finalProcess)"
   ]
  },
  {
   "cell_type": "code",
   "execution_count": 6,
   "id": "1b3b9fb0",
   "metadata": {},
   "outputs": [
    {
     "name": "stdout",
     "output_type": "stream",
     "text": [
      "  Process  Arrival  Burst  Completion  Waiting  Turn Around\n",
      "0       A        9      7          20        4           11\n",
      "1       B       11      2          22        9           11\n",
      "2       C       15      2          24        7            9\n",
      "3       D        3      6           9        0            6\n",
      "4       E        5      4          13        4            8\n"
     ]
    }
   ],
   "source": [
    "df = finalProcess.to_dataFrame()\n",
    "print(df)"
   ]
  },
  {
   "cell_type": "code",
   "execution_count": 18,
   "id": "719936e3",
   "metadata": {},
   "outputs": [
    {
     "ename": "SyntaxError",
     "evalue": "invalid syntax (2277112157.py, line 14)",
     "output_type": "error",
     "traceback": [
      "\u001b[1;36m  Cell \u001b[1;32mIn[18], line 14\u001b[1;36m\u001b[0m\n\u001b[1;33m    gnt.set_xticklabels(range(0, int(finalProcess.totalTime), 3), minor=False, rotation=0, fontsize=None)\u001b[0m\n\u001b[1;37m    ^\u001b[0m\n\u001b[1;31mSyntaxError\u001b[0m\u001b[1;31m:\u001b[0m invalid syntax\n"
     ]
    }
   ],
   "source": [
    "fig, gnt = plt.subplots()\n",
    "\n",
    "plt.barh(y=df['Process'], width=df['Burst'], left=df['Arrival'] + df['Waiting'], color=\"orange\", label=\"Burst TIme\", zorder=3)\n",
    "plt.barh(y=df['Process'], width=df['Waiting'], left=df['Arrival'], color=\"skyblue\", label=\"Waiting Time\", zorder=3)\n",
    "\n",
    "plt.title(\"First Come First Serve CPU Schedule Gantt Chart\")\n",
    "\n",
    "plt.gca().invert_yaxis()\n",
    "\n",
    "gnt.grid(True, zorder=1)\n",
    "gnt.set_ylabel(\"Process\")\n",
    "gnt.set_xlabel(\"Time (s)\")\n",
    "gnt.set_xticks(range(0, int(finalProcess.totalTime))\n",
    "gnt.set_xticklabels(range(0, int(finalProcess.totalTime), 3), minor=False, rotation=0, fontsize=None)\n",
    "\n",
    "plt.legend(title=\"Time Type\")\n",
    "\n",
    "plt.show()"
   ]
  },
  {
   "cell_type": "code",
   "execution_count": 15,
   "id": "4a3bb0f1-8f0e-4abf-b199-975329de926f",
   "metadata": {},
   "outputs": [
    {
     "name": "stdout",
     "output_type": "stream",
     "text": [
      "Average Waiting Time: 4.8s\n",
      "Total Time: 24\n"
     ]
    }
   ],
   "source": [
    "print(\"Average Waiting Time\", finalProcess.calculateAverageWaitingTime(), sep=\": \", end=\"s\\n\")\n",
    "print(\"Total Time\", int(finalProcess.totalTime), sep=\": \")"
   ]
  },
  {
   "cell_type": "code",
   "execution_count": null,
   "id": "5fa146c4-d4a5-44c1-9f11-333f0a7fe36f",
   "metadata": {},
   "outputs": [],
   "source": []
  }
 ],
 "metadata": {
  "kernelspec": {
   "display_name": "Python 3 (ipykernel)",
   "language": "python",
   "name": "python3"
  },
  "language_info": {
   "codemirror_mode": {
    "name": "ipython",
    "version": 3
   },
   "file_extension": ".py",
   "mimetype": "text/x-python",
   "name": "python",
   "nbconvert_exporter": "python",
   "pygments_lexer": "ipython3",
   "version": "3.9.20"
  }
 },
 "nbformat": 4,
 "nbformat_minor": 5
}
