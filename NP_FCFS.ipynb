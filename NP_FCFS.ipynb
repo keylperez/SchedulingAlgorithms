{
 "cells": [
  {
   "cell_type": "code",
   "execution_count": 10,
   "id": "e8731309-e398-4c7c-ae4f-4ff6192dd0cb",
   "metadata": {},
   "outputs": [],
   "source": [
    "class Process:\n",
    "    def __init__(self, processChar, burstTime, arrivalTime):\n",
    "        self.processChar = processChar\n",
    "        self.burstTime = burstTime\n",
    "        self.arrivalTime = arrivalTime\n",
    "        self.waitingTime = 0\n",
    "    def setBurstTime(self):\n",
    "        return self.burstTime\n",
    "    def getBurstTime(self):\n",
    "        return self.burstTime\n",
    "    def decrementBurst(self):\n",
    "        self.burstTime -= 1\n",
    "        return self.burstTime\n",
    "    def incrementWait(self):\n",
    "        self.waitingTime += 1\n",
    "        return self.waitingTime\n",
    "    def __repr__(self):  # Or use __str__ for a similar effect\n",
    "        return f\"{{ Process: {self.processChar}, Burst Time: {self.burstTime}, Arrival Time: {self.arrivalTime}, Waiting Time: {self.waitingTime}}}\""
   ]
  },
  {
   "cell_type": "code",
   "execution_count": 11,
   "id": "5f10c4d1-dd17-4bd2-9146-39bd99054fb8",
   "metadata": {},
   "outputs": [
    {
     "name": "stdin",
     "output_type": "stream",
     "text": [
      "Input how many process you will input:  2\n"
     ]
    },
    {
     "name": "stdout",
     "output_type": "stream",
     "text": [
      "2\n",
      "Process A\n"
     ]
    },
    {
     "name": "stdin",
     "output_type": "stream",
     "text": [
      "Input Burst Time:  6\n",
      "Input Arrival Time:  5\n"
     ]
    },
    {
     "name": "stdout",
     "output_type": "stream",
     "text": [
      "Process B\n"
     ]
    },
    {
     "name": "stdin",
     "output_type": "stream",
     "text": [
      "Input Burst Time:  4\n",
      "Input Arrival Time:  3\n"
     ]
    }
   ],
   "source": [
    "while True:\n",
    "    try:\n",
    "        quantProcess = int(input(\"Input how many process you will input: \"))\n",
    "        break\n",
    "    except:\n",
    "        print(\"PLEASE INPUT INTEGERS!!!\")\n",
    "print(quantProcess)\n",
    "taskChar = 'A'\n",
    "taskArr = []\n",
    "for x in range(quantProcess):\n",
    "    print(\"Process \" + taskChar)\n",
    "    while True:\n",
    "        try:\n",
    "            bt = int(input(\"Input Burst Time: \"))\n",
    "            break\n",
    "        except:\n",
    "            print(\"Please input integers!!!\")\n",
    "    while True:\n",
    "        try:\n",
    "            at = int(input(\"Input Arrival Time: \"))\n",
    "            break\n",
    "        except:\n",
    "            print(\"Please input integers!!!\")\n",
    "    taskArr.append(Process(taskChar, bt, at))\n",
    "    taskChar = chr(ord(taskChar) + 1)"
   ]
  },
  {
   "cell_type": "code",
   "execution_count": 12,
   "id": "d25203c6-f800-4792-bc17-e520c0223a6a",
   "metadata": {},
   "outputs": [
    {
     "name": "stdout",
     "output_type": "stream",
     "text": [
      "{ Process: A, Burst Time: 6, Arrival Time: 5, Waiting Time: 0}\n",
      "{ Process: B, Burst Time: 4, Arrival Time: 3, Waiting Time: 0}\n"
     ]
    }
   ],
   "source": [
    "def printTasks(array):\n",
    "    for obj in array:\n",
    "        print(obj)\n",
    "printTasks(taskArr)"
   ]
  },
  {
   "cell_type": "code",
   "execution_count": 13,
   "id": "56e8facd-aea6-4511-9246-d53ffdacbd3a",
   "metadata": {},
   "outputs": [],
   "source": [
    "def startProcess(array):\n",
    "    sorted_taskArr = sorted(array, key=lambda p: p.arrivalTime)\n",
    "    # printTasks(sorted_taskArr)\n",
    "    for task in sorted_taskArr:\n",
    "        # "
   ]
  },
  {
   "cell_type": "code",
   "execution_count": 14,
   "id": "821044d6-5c3b-4e4d-96ab-c202ea6ec83b",
   "metadata": {},
   "outputs": [
    {
     "name": "stdout",
     "output_type": "stream",
     "text": [
      "{ Process: B, Burst Time: 4, Arrival Time: 3, Waiting Time: 0}\n",
      "{ Process: A, Burst Time: 6, Arrival Time: 5, Waiting Time: 0}\n"
     ]
    }
   ],
   "source": [
    "startProcess(taskArr)"
   ]
  },
  {
   "cell_type": "code",
   "execution_count": null,
   "id": "90733143-c01e-43f2-86bd-935db32b5b46",
   "metadata": {},
   "outputs": [],
   "source": []
  }
 ],
 "metadata": {
  "kernelspec": {
   "display_name": "Python 3 (ipykernel)",
   "language": "python",
   "name": "python3"
  },
  "language_info": {
   "codemirror_mode": {
    "name": "ipython",
    "version": 3
   },
   "file_extension": ".py",
   "mimetype": "text/x-python",
   "name": "python",
   "nbconvert_exporter": "python",
   "pygments_lexer": "ipython3",
   "version": "3.9.20"
  }
 },
 "nbformat": 4,
 "nbformat_minor": 5
}
