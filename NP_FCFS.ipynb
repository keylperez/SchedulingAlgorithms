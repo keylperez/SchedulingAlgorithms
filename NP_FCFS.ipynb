{
 "cells": [
  {
   "cell_type": "code",
   "execution_count": 1,
   "id": "8736c2d7-0162-484a-b041-cf746fd7e789",
   "metadata": {},
   "outputs": [],
   "source": [
    "import time\n",
    "import pandas as pd\n",
    "import matplotlib.pyplot as plt"
   ]
  },
  {
   "cell_type": "code",
   "execution_count": 2,
   "id": "e8731309-e398-4c7c-ae4f-4ff6192dd0cb",
   "metadata": {},
   "outputs": [],
   "source": [
    "class Process:\n",
    "    def __init__(self, array):\n",
    "        self.processArr = array\n",
    "        self.averageWaitingTime = 0\n",
    "        self.totalTime = 0\n",
    "    def calculateAverageWaitingTime(self):\n",
    "        sum = 0\n",
    "        for task in self.processArr:\n",
    "            sum += task.waitingTime\n",
    "        self.averageWaitingTime = sum/len(self.processArr)\n",
    "    def to_dataFrame(self):\n",
    "        data = []\n",
    "        for task in self.processArr:\n",
    "            data.append({\n",
    "                'Process': task.processChar,\n",
    "                'Arrival': task.arrivalTime,\n",
    "                'Burst': task.burstTime,\n",
    "                'Completion': task.completionTime,\n",
    "                'Waiting': task.waitingTime,\n",
    "                'Turn Around': task.turnAroundTime\n",
    "            })\n",
    "        return pd.DataFrame(data)\n",
    "        \n",
    "class Task:\n",
    "    def __init__(self, processChar, burstTime, arrivalTime):\n",
    "        self.processChar = processChar\n",
    "        self.burstTime = burstTime\n",
    "        self.arrivalTime = arrivalTime\n",
    "        self.completionTime = 0\n",
    "        self.turnAroundTime = 0\n",
    "        self.waitingTime = 0\n",
    "    def calculateAttributes(self, time):\n",
    "        self.completionTime = time\n",
    "        self.turnAroundTime = self.completionTime - self.arrivalTime\n",
    "        self.waitingTime = self.turnAroundTime - self.burstTime\n",
    "    def incrementWait(self):\n",
    "        self.waitingTime += 1\n",
    "        return self.waitingTime\n",
    "    def __repr__(self):  # Or use __str__ for a similar effect\n",
    "        return f\"{{ Process: {self.processChar}, Burst Time: {self.burstTime}, Arrival Time: {self.arrivalTime}, Waiting Time: {self.waitingTime}, CompletionTime: {self.completionTime} Turn Around Time: {self.turnAroundTime} }}\""
   ]
  },
  {
   "cell_type": "code",
   "execution_count": 3,
   "id": "5f10c4d1-dd17-4bd2-9146-39bd99054fb8",
   "metadata": {},
   "outputs": [
    {
     "name": "stdin",
     "output_type": "stream",
     "text": [
      "Input how many process you will input:  5\n"
     ]
    },
    {
     "name": "stdout",
     "output_type": "stream",
     "text": [
      "Process A\n"
     ]
    },
    {
     "name": "stdin",
     "output_type": "stream",
     "text": [
      "Input Burst Time:  7\n",
      "Input Arrival Time:  9\n"
     ]
    },
    {
     "name": "stdout",
     "output_type": "stream",
     "text": [
      "Process B\n"
     ]
    },
    {
     "name": "stdin",
     "output_type": "stream",
     "text": [
      "Input Burst Time:  2\n",
      "Input Arrival Time:  9\n"
     ]
    },
    {
     "name": "stdout",
     "output_type": "stream",
     "text": [
      "Process C\n"
     ]
    },
    {
     "name": "stdin",
     "output_type": "stream",
     "text": [
      "Input Burst Time:  2\n",
      "Input Arrival Time:  9\n"
     ]
    },
    {
     "name": "stdout",
     "output_type": "stream",
     "text": [
      "Process D\n"
     ]
    },
    {
     "name": "stdin",
     "output_type": "stream",
     "text": [
      "Input Burst Time:  6\n",
      "Input Arrival Time:  3\n"
     ]
    },
    {
     "name": "stdout",
     "output_type": "stream",
     "text": [
      "Process E\n"
     ]
    },
    {
     "name": "stdin",
     "output_type": "stream",
     "text": [
      "Input Burst Time:  4\n",
      "Input Arrival Time:  19\n"
     ]
    }
   ],
   "source": [
    "while True:\n",
    "    try:\n",
    "        quantProcess = int(input(\"Input how many process you will input: \"))\n",
    "        break\n",
    "    except:\n",
    "        print(\"PLEASE INPUT INTEGERS!!!\")\n",
    "        \n",
    "\n",
    "taskChar = 'A'\n",
    "taskArr = []\n",
    "\n",
    "for x in range(quantProcess):\n",
    "    print(\"Process \" + taskChar)\n",
    "    \n",
    "    while True:\n",
    "        try:\n",
    "            bt = int(input(\"Input Burst Time: \"))\n",
    "            break\n",
    "        except:\n",
    "            print(\"Please input integers!!!\")\n",
    "            \n",
    "    while True:\n",
    "        try:\n",
    "            at = int(input(\"Input Arrival Time: \"))\n",
    "            break\n",
    "        except:\n",
    "            print(\"Please input integers!!!\")\n",
    "            \n",
    "    taskArr.append(Task(taskChar, bt, at))\n",
    "    taskChar = chr(ord(taskChar) + 1)\n",
    "    \n",
    "finalProcess = Process(taskArr)"
   ]
  },
  {
   "cell_type": "code",
   "execution_count": 4,
   "id": "d25203c6-f800-4792-bc17-e520c0223a6a",
   "metadata": {},
   "outputs": [
    {
     "name": "stdout",
     "output_type": "stream",
     "text": [
      "{ Process: A, Burst Time: 7, Arrival Time: 9, Waiting Time: 0, CompletionTime: 0 Turn Around Time: 0 }\n",
      "{ Process: B, Burst Time: 2, Arrival Time: 9, Waiting Time: 0, CompletionTime: 0 Turn Around Time: 0 }\n",
      "{ Process: C, Burst Time: 2, Arrival Time: 9, Waiting Time: 0, CompletionTime: 0 Turn Around Time: 0 }\n",
      "{ Process: D, Burst Time: 6, Arrival Time: 3, Waiting Time: 0, CompletionTime: 0 Turn Around Time: 0 }\n",
      "{ Process: E, Burst Time: 4, Arrival Time: 19, Waiting Time: 0, CompletionTime: 0 Turn Around Time: 0 }\n"
     ]
    }
   ],
   "source": [
    "def printTasks(array):\n",
    "    for obj in array:\n",
    "        print(obj)\n",
    "        \n",
    "printTasks(finalProcess.processArr)"
   ]
  },
  {
   "cell_type": "code",
   "execution_count": 5,
   "id": "56e8facd-aea6-4511-9246-d53ffdacbd3a",
   "metadata": {},
   "outputs": [],
   "source": [
    "# def startProcess(array):\n",
    "    \n",
    "#     sorted_taskArr = sorted(array, key=lambda p: p.arrivalTime)\n",
    "#     # printTasks(finalProcess.sorted_taskArr)\n",
    "#     startTime = time.time()\n",
    "    \n",
    "#     for task in sorted_taskArr:\n",
    "#         burstStart = task.burstTime\n",
    "#         while burstStart >= 0:\n",
    "            \n",
    "#             print(int(time.time() - startTime), end=\"s\\n\")\n",
    "#             print(task.processChar, burstStart, sep=\" - \")\n",
    "            \n",
    "#             nextIndex = sorted_taskArr.index(task) + 1\n",
    "\n",
    "#             if burstStart == 0:\n",
    "#                 task.calculateAttributes(int(time.time() - startTime))\n",
    "#                 break\n",
    "                \n",
    "#             burstStart -= 1\n",
    "                    \n",
    "#             time.sleep(1)\n",
    "#     finalProcess.totalTime = time.time() - startTime\n",
    "#     arr = sorted(sorted_taskArr, key=lambda p: p.processChar)\n",
    "#     return arr"
   ]
  },
  {
   "cell_type": "code",
   "execution_count": 5,
   "id": "de6fd6e0-25f8-4876-bf0b-f59bf3306948",
   "metadata": {},
   "outputs": [],
   "source": [
    "def startProcess(array):\n",
    "    \n",
    "    sorted_taskArr = sorted(array, key=lambda p: p.arrivalTime)\n",
    "    # printTasks(finalProcess.sorted_taskArr)\n",
    "    startTime = time.time()\n",
    "    \n",
    "    for task in sorted_taskArr:\n",
    "        burstStart = task.burstTime\n",
    "        while burstStart >= 0:\n",
    "            \n",
    "            print(int(time.time() - startTime), end=\"s\\n\")\n",
    "            print(task.processChar, burstStart, sep=\" - \")\n",
    "            \n",
    "            nextIndex = sorted_taskArr.index(task) + 1\n",
    "\n",
    "            if burstStart == 0:\n",
    "                task.calculateAttributes(int(time.time() - startTime))\n",
    "                break\n",
    "                \n",
    "            burstStart -= 1\n",
    "                    \n",
    "            time.sleep(1)\n",
    "    finalProcess.totalTime = time.time() - startTime\n",
    "    arr = sorted(sorted_taskArr, key=lambda p: p.processChar)\n",
    "    return arr"
   ]
  },
  {
   "cell_type": "code",
   "execution_count": 6,
   "id": "821044d6-5c3b-4e4d-96ab-c202ea6ec83b",
   "metadata": {},
   "outputs": [
    {
     "name": "stdout",
     "output_type": "stream",
     "text": [
      "0s\n",
      "D - 6\n",
      "1s\n",
      "D - 5\n",
      "2s\n",
      "D - 4\n",
      "3s\n",
      "D - 3\n",
      "4s\n",
      "D - 2\n",
      "5s\n",
      "D - 1\n",
      "6s\n",
      "D - 0\n",
      "6s\n",
      "A - 7\n",
      "7s\n",
      "A - 6\n",
      "8s\n",
      "A - 5\n",
      "9s\n",
      "A - 4\n",
      "10s\n",
      "A - 3\n",
      "11s\n",
      "A - 2\n",
      "12s\n",
      "A - 1\n",
      "13s\n",
      "A - 0\n",
      "13s\n",
      "B - 2\n",
      "14s\n",
      "B - 1\n",
      "15s\n",
      "B - 0\n",
      "15s\n",
      "C - 2\n",
      "16s\n",
      "C - 1\n",
      "17s\n",
      "C - 0\n",
      "17s\n",
      "E - 4\n",
      "18s\n",
      "E - 3\n",
      "19s\n",
      "E - 2\n",
      "20s\n",
      "E - 1\n",
      "21s\n",
      "E - 0\n"
     ]
    }
   ],
   "source": [
    "finalProcess.processArr = startProcess(finalProcess.processArr)"
   ]
  },
  {
   "cell_type": "code",
   "execution_count": 7,
   "id": "24263519-c395-40c7-a4f8-08a5d90dd86c",
   "metadata": {},
   "outputs": [
    {
     "name": "stdout",
     "output_type": "stream",
     "text": [
      "  Process  Arrival  Burst  Completion  Waiting  Turn Around\n",
      "0       A        9      7          13       -3            4\n",
      "1       B        9      2          15        4            6\n",
      "2       C        9      2          17        6            8\n",
      "3       D        3      6           6       -3            3\n",
      "4       E       19      4          21       -2            2\n"
     ]
    }
   ],
   "source": [
    "df = finalProcess.to_dataFrame()\n",
    "print(df)"
   ]
  },
  {
   "cell_type": "code",
   "execution_count": 8,
   "id": "36e4a2be-f9ed-4f2f-b9f1-c2c328bb3669",
   "metadata": {},
   "outputs": [
    {
     "data": {
      "image/png": "[encoded data removed]",
      "text/plain": [
       "<Figure size 640x480 with 1 Axes>"
      ]
     },
     "metadata": {},
     "output_type": "display_data"
    }
   ],
   "source": [
    "fig, gnt = plt.subplots()\n",
    "\n",
    "plt.barh(y=df['Process'], width=df['Burst'], left=df['Arrival'])\n",
    "plt.title(\"First Come First Serve CPU Schedule Gantt Chart\")\n",
    "\n",
    "plt.gca().invert_yaxis()\n",
    "\n",
    "gnt.grid(True)\n",
    "gnt.set_ylabel(\"Process\")\n",
    "gnt.set_xlabel(\"Time (s)\")\n",
    "\n",
    "\n",
    "gnt.barh(y=df['Process'], width=df['Burst'], left=df['Arrival'])\n",
    "\n",
    "plt.show()"
   ]
  }
 ],
 "metadata": {
  "kernelspec": {
   "display_name": "Python 3 (ipykernel)",
   "language": "python",
   "name": "python3"
  },
  "language_info": {
   "codemirror_mode": {
    "name": "ipython",
    "version": 3
   },
   "file_extension": ".py",
   "mimetype": "text/x-python",
   "name": "python",
   "nbconvert_exporter": "python",
   "pygments_lexer": "ipython3",
   "version": "3.9.20"
  }
 },
 "nbformat": 4,
 "nbformat_minor": 5
}
