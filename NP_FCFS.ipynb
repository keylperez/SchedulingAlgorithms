{
 "cells": [
  {
   "cell_type": "code",
   "execution_count": 8,
   "id": "8736c2d7-0162-484a-b041-cf746fd7e789",
   "metadata": {},
   "outputs": [],
   "source": [
    "import time"
   ]
  },
  {
   "cell_type": "code",
   "execution_count": 9,
   "id": "e8731309-e398-4c7c-ae4f-4ff6192dd0cb",
   "metadata": {},
   "outputs": [],
   "source": [
    "class Process:\n",
    "    def __init__(self, array):\n",
    "        self.processArr = array\n",
    "        self.averageWaitingTime = 0\n",
    "    def calculateAverageWaitingTime(self):\n",
    "        sum = 0\n",
    "        for task in self.processArr:\n",
    "            sum += task.waitingTime\n",
    "        self.averageWaitingTime = sum/len(self.processArr)\n",
    "        \n",
    "class Task:\n",
    "    def __init__(self, processChar, burstTime, arrivalTime):\n",
    "        self.processChar = processChar\n",
    "        self.burstTime = burstTime\n",
    "        self.arrivalTime = arrivalTime\n",
    "        self.completionTime = 0\n",
    "        self.turnAroundTime = 0\n",
    "        self.waitingTime = 0\n",
    "    def calculateAttributes(self, bt, time):\n",
    "        self.completionTime = time\n",
    "        self.turnAroundTime = self.completionTime - self.arrivalTime\n",
    "        self.waitingTime = self.turnAroundTime - bt\n",
    "    def decrementBurst(self):\n",
    "        self.burstTime -= 1\n",
    "        return self.burstTime\n",
    "    def incrementWait(self):\n",
    "        self.waitingTime += 1\n",
    "        return self.waitingTime\n",
    "    def __repr__(self):  # Or use __str__ for a similar effect\n",
    "        return f\"{{ Process: {self.processChar}, Burst Time: {self.burstTime}, Arrival Time: {self.arrivalTime}, Waiting Time: {self.waitingTime}, CompletionTime: {self.completionTime} Turn Around Time: {self.turnAroundTime} }}\""
   ]
  },
  {
   "cell_type": "code",
   "execution_count": 10,
   "id": "5f10c4d1-dd17-4bd2-9146-39bd99054fb8",
   "metadata": {},
   "outputs": [
    {
     "name": "stdin",
     "output_type": "stream",
     "text": [
      "Input how many process you will input:  2\n"
     ]
    },
    {
     "name": "stdout",
     "output_type": "stream",
     "text": [
      "Process A\n"
     ]
    },
    {
     "name": "stdin",
     "output_type": "stream",
     "text": [
      "Input Burst Time:  2\n",
      "Input Arrival Time:  2\n"
     ]
    },
    {
     "name": "stdout",
     "output_type": "stream",
     "text": [
      "Process B\n"
     ]
    },
    {
     "name": "stdin",
     "output_type": "stream",
     "text": [
      "Input Burst Time:  3\n",
      "Input Arrival Time:  0\n"
     ]
    }
   ],
   "source": [
    "while True:\n",
    "    try:\n",
    "        quantProcess = int(input(\"Input how many process you will input: \"))\n",
    "        break\n",
    "    except:\n",
    "        print(\"PLEASE INPUT INTEGERS!!!\")\n",
    "        \n",
    "\n",
    "taskChar = 'A'\n",
    "taskArr = []\n",
    "\n",
    "for x in range(quantProcess):\n",
    "    print(\"Process \" + taskChar)\n",
    "    \n",
    "    while True:\n",
    "        try:\n",
    "            bt = int(input(\"Input Burst Time: \"))\n",
    "            break\n",
    "        except:\n",
    "            print(\"Please input integers!!!\")\n",
    "            \n",
    "    while True:\n",
    "        try:\n",
    "            at = int(input(\"Input Arrival Time: \"))\n",
    "            break\n",
    "        except:\n",
    "            print(\"Please input integers!!!\")\n",
    "            \n",
    "    taskArr.append(Task(taskChar, bt, at))\n",
    "    taskChar = chr(ord(taskChar) + 1)\n",
    "    \n",
    "finalProcess = Process(taskArr)"
   ]
  },
  {
   "cell_type": "code",
   "execution_count": 11,
   "id": "d25203c6-f800-4792-bc17-e520c0223a6a",
   "metadata": {},
   "outputs": [
    {
     "name": "stdout",
     "output_type": "stream",
     "text": [
      "{ Process: A, Burst Time: 2, Arrival Time: 2, Waiting Time: 0, CompletionTime: 0 Turn Around Time: 0 }\n",
      "{ Process: B, Burst Time: 3, Arrival Time: 0, Waiting Time: 0, CompletionTime: 0 Turn Around Time: 0 }\n"
     ]
    }
   ],
   "source": [
    "def printTasks(array):\n",
    "    for obj in array:\n",
    "        print(obj)\n",
    "        \n",
    "printTasks(finalProcess.processArr)"
   ]
  },
  {
   "cell_type": "code",
   "execution_count": 12,
   "id": "aa070331-bf9d-4dc7-a0b1-660aca67d509",
   "metadata": {},
   "outputs": [
    {
     "name": "stdout",
     "output_type": "stream",
     "text": [
      "1733391281.2631342\n"
     ]
    }
   ],
   "source": [
    "print(time.time())"
   ]
  },
  {
   "cell_type": "code",
   "execution_count": 13,
   "id": "56e8facd-aea6-4511-9246-d53ffdacbd3a",
   "metadata": {},
   "outputs": [],
   "source": [
    "def startProcess(array):\n",
    "    \n",
    "    sorted_taskArr = sorted(array, key=lambda p: p.arrivalTime)\n",
    "    # printTasks(finalProcess.sorted_taskArr)\n",
    "    startTime = time.time()\n",
    "    \n",
    "    for task in sorted_taskArr:\n",
    "        burstStart = task.burstTime\n",
    "        while task.burstTime >= 0:\n",
    "            \n",
    "            print(int(time.time() - startTime), end=\"s\\n\")\n",
    "            print(task)\n",
    "            \n",
    "            nextIndex = sorted_taskArr.index(task) + 1\n",
    "\n",
    "            if task.burstTime == 0:\n",
    "                task.calculateAttributes(burstStart, int(time.time() - startTime))\n",
    "                break\n",
    "                \n",
    "            task.decrementBurst()\n",
    "                    \n",
    "            time.sleep(1)\n",
    "\n",
    "    return sorted_taskArr"
   ]
  },
  {
   "cell_type": "code",
   "execution_count": 14,
   "id": "821044d6-5c3b-4e4d-96ab-c202ea6ec83b",
   "metadata": {},
   "outputs": [
    {
     "name": "stdout",
     "output_type": "stream",
     "text": [
      "0s\n",
      "{ Process: B, Burst Time: 3, Arrival Time: 0, Waiting Time: 0, CompletionTime: 0 Turn Around Time: 0 }\n",
      "1s\n",
      "{ Process: B, Burst Time: 2, Arrival Time: 0, Waiting Time: 0, CompletionTime: 0 Turn Around Time: 0 }\n",
      "2s\n",
      "{ Process: B, Burst Time: 1, Arrival Time: 0, Waiting Time: 0, CompletionTime: 0 Turn Around Time: 0 }\n",
      "3s\n",
      "{ Process: B, Burst Time: 0, Arrival Time: 0, Waiting Time: 0, CompletionTime: 0 Turn Around Time: 0 }\n",
      "3s\n",
      "{ Process: A, Burst Time: 2, Arrival Time: 2, Waiting Time: 0, CompletionTime: 0 Turn Around Time: 0 }\n",
      "4s\n",
      "{ Process: A, Burst Time: 1, Arrival Time: 2, Waiting Time: 0, CompletionTime: 0 Turn Around Time: 0 }\n",
      "5s\n",
      "{ Process: A, Burst Time: 0, Arrival Time: 2, Waiting Time: 0, CompletionTime: 0 Turn Around Time: 0 }\n"
     ]
    }
   ],
   "source": [
    "finalProcess.processArr = startProcess(finalProcess.processArr)"
   ]
  },
  {
   "cell_type": "code",
   "execution_count": 15,
   "id": "90733143-c01e-43f2-86bd-935db32b5b46",
   "metadata": {},
   "outputs": [
    {
     "name": "stdout",
     "output_type": "stream",
     "text": [
      "{ Process: B, Burst Time: 0, Arrival Time: 0, Waiting Time: 0, CompletionTime: 3 Turn Around Time: 3 }\n",
      "{ Process: A, Burst Time: 0, Arrival Time: 2, Waiting Time: 1, CompletionTime: 5 Turn Around Time: 3 }\n"
     ]
    }
   ],
   "source": [
    "printTasks(finalProcess.processArr)"
   ]
  },
  {
   "cell_type": "code",
   "execution_count": null,
   "id": "636c59d7-02e9-4d2a-bd19-1374834d5cb0",
   "metadata": {},
   "outputs": [],
   "source": []
  }
 ],
 "metadata": {
  "kernelspec": {
   "display_name": "Python 3 (ipykernel)",
   "language": "python",
   "name": "python3"
  },
  "language_info": {
   "codemirror_mode": {
    "name": "ipython",
    "version": 3
   },
   "file_extension": ".py",
   "mimetype": "text/x-python",
   "name": "python",
   "nbconvert_exporter": "python",
   "pygments_lexer": "ipython3",
   "version": "3.9.20"
  }
 },
 "nbformat": 4,
 "nbformat_minor": 5
}
