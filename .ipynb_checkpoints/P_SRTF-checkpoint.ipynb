{
 "cells": [
  {
   "cell_type": "markdown",
   "id": "67c34b54",
   "metadata": {
    "colab_type": "text",
    "id": "view-in-github"
   },
   "source": [
    "<a href=\"https://colab.research.google.com/github/keylperez/SchedulingAlgorithms/blob/main/P_SRTF.ipynb\" target=\"_parent\"><img src=\"https://colab.research.google.com/assets/colab-badge.svg\" alt=\"Open In Colab\"/></a>"
   ]
  },
  {
   "cell_type": "markdown",
   "id": "A3R89pxnZmEF",
   "metadata": {
    "id": "A3R89pxnZmEF"
   },
   "source": [
    "Shortest Remaining Time First"
   ]
  },
  {
   "cell_type": "code",
   "execution_count": 1,
   "id": "e97c63d6",
   "metadata": {
    "id": "e97c63d6"
   },
   "outputs": [],
   "source": [
    "import pandas as pd\n",
    "import matplotlib\n",
    "matplotlib.use('Agg')\n",
    "import matplotlib.pyplot as plt"
   ]
  },
  {
   "cell_type": "code",
   "execution_count": 2,
   "id": "42f4744a-df2f-42e0-9e7c-8927f575c59c",
   "metadata": {},
   "outputs": [],
   "source": [
    "%matplotlib inline"
   ]
  },
  {
   "cell_type": "code",
   "execution_count": 3,
   "id": "e52815c8",
   "metadata": {
    "id": "e52815c8"
   },
   "outputs": [],
   "source": [
    "class Task:\n",
    "    def __init__(self, processChar, burstTime, arrivalTime):\n",
    "        self.processChar = processChar\n",
    "        self.burstTime = burstTime\n",
    "        self.remainingTime = burstTime\n",
    "        self.arrivalTime = arrivalTime\n",
    "        self.completionTime = 0\n",
    "        self.turnAroundTime = 0\n",
    "        self.waitingTime = 0\n",
    "        self.executionLog = []  # Track execution intervals for plotting\n",
    "\n",
    "    def calculateAttributes(self, time):\n",
    "        self.completionTime = time\n",
    "        self.turnAroundTime = self.completionTime - self.arrivalTime\n",
    "        self.waitingTime = self.turnAroundTime - self.burstTime\n",
    "\n",
    "    def __repr__(self):\n",
    "        return (f\"{{ Process: {self.processChar}, Burst Time: {self.burstTime}, \"\n",
    "                f\"Arrival Time: {self.arrivalTime}, Remaining Time: {self.remainingTime}, \"\n",
    "                f\"Waiting Time: {self.waitingTime}, Completion Time: {self.completionTime}, \"\n",
    "                f\"Turn Around Time: {self.turnAroundTime} }}\")"
   ]
  },
  {
   "cell_type": "code",
   "execution_count": 4,
   "id": "9QR0hm7nh4iD",
   "metadata": {
    "id": "9QR0hm7nh4iD"
   },
   "outputs": [],
   "source": [
    "class Process:\n",
    "    def __init__(self, processArr):\n",
    "        self.processArr = processArr\n",
    "        self.totalTime = 0\n",
    "\n",
    "    def calculateAverageWaitingTime(self):\n",
    "        return round(sum([task.waitingTime for task in self.processArr]) / len(self.processArr), 2)\n",
    "\n",
    "    def to_dataFrame(self):\n",
    "        data = {\n",
    "            \"Process\": [task.processChar for task in self.processArr],\n",
    "            \"Burst\": [task.burstTime for task in self.processArr],\n",
    "            \"Arrival\": [task.arrivalTime for task in self.processArr],\n",
    "            \"Waiting\": [task.waitingTime for task in self.processArr],\n",
    "            \"Completion\": [task.completionTime for task in self.processArr],\n",
    "            \"TurnAround\": [task.turnAroundTime for task in self.processArr],\n",
    "        }\n",
    "        return pd.DataFrame(data)"
   ]
  },
  {
   "cell_type": "code",
   "execution_count": 5,
   "id": "b1ed2f80",
   "metadata": {
    "colab": {
     "base_uri": "https://localhost:8080/"
    },
    "id": "b1ed2f80",
    "outputId": "4a223a30-f7f5-4511-d510-68aeb9d04daf"
   },
   "outputs": [
    {
     "name": "stdin",
     "output_type": "stream",
     "text": [
      "Input how many processes you will input:  4\n"
     ]
    },
    {
     "name": "stdout",
     "output_type": "stream",
     "text": [
      "Process A\n"
     ]
    },
    {
     "name": "stdin",
     "output_type": "stream",
     "text": [
      "Input Burst Time:  3\n",
      "Input Arrival Time:  0\n"
     ]
    },
    {
     "name": "stdout",
     "output_type": "stream",
     "text": [
      "Process B\n"
     ]
    },
    {
     "name": "stdin",
     "output_type": "stream",
     "text": [
      "Input Burst Time:  5\n",
      "Input Arrival Time:  2\n"
     ]
    },
    {
     "name": "stdout",
     "output_type": "stream",
     "text": [
      "Process C\n"
     ]
    },
    {
     "name": "stdin",
     "output_type": "stream",
     "text": [
      "Input Burst Time:  2\n",
      "Input Arrival Time:  2\n"
     ]
    },
    {
     "name": "stdout",
     "output_type": "stream",
     "text": [
      "Process D\n"
     ]
    },
    {
     "name": "stdin",
     "output_type": "stream",
     "text": [
      "Input Burst Time:  6\n",
      "Input Arrival Time:  3\n"
     ]
    }
   ],
   "source": [
    "while True:\n",
    "    try:\n",
    "        quantProcess = int(input(\"Input how many processes you will input: \"))\n",
    "        break\n",
    "    except:\n",
    "        print(\"PLEASE INPUT INTEGERS!!!\")\n",
    "\n",
    "taskChar = 'A'\n",
    "taskArr = []\n",
    "\n",
    "for x in range(quantProcess):\n",
    "    print(f\"Process {taskChar}\")\n",
    "\n",
    "    while True:\n",
    "        try:\n",
    "            bt = int(input(\"Input Burst Time: \"))\n",
    "            break\n",
    "        except:\n",
    "            print(\"Please input integers!!!\")\n",
    "\n",
    "    while True:\n",
    "        try:\n",
    "            at = int(input(\"Input Arrival Time: \"))\n",
    "            break\n",
    "        except:\n",
    "            print(\"Please input integers!!!\")\n",
    "\n",
    "    taskArr.append(Task(taskChar, bt, at))\n",
    "    taskChar = chr(ord(taskChar) + 1)\n",
    "\n",
    "finalProcess = Process(taskArr)"
   ]
  },
  {
   "cell_type": "code",
   "execution_count": 6,
   "id": "2c00ae53",
   "metadata": {
    "colab": {
     "base_uri": "https://localhost:8080/"
    },
    "id": "2c00ae53",
    "outputId": "cca32e34-5687-4253-b130-d5698556f286"
   },
   "outputs": [
    {
     "name": "stdout",
     "output_type": "stream",
     "text": [
      "{ Process: A, Burst Time: 3, Arrival Time: 0, Remaining Time: 3, Waiting Time: 0, Completion Time: 0, Turn Around Time: 0 }\n",
      "{ Process: B, Burst Time: 5, Arrival Time: 2, Remaining Time: 5, Waiting Time: 0, Completion Time: 0, Turn Around Time: 0 }\n",
      "{ Process: C, Burst Time: 2, Arrival Time: 2, Remaining Time: 2, Waiting Time: 0, Completion Time: 0, Turn Around Time: 0 }\n",
      "{ Process: D, Burst Time: 6, Arrival Time: 3, Remaining Time: 6, Waiting Time: 0, Completion Time: 0, Turn Around Time: 0 }\n"
     ]
    }
   ],
   "source": [
    "def printTasks(Object):\n",
    "    for obj in Object.processArr:\n",
    "        print(obj)\n",
    "\n",
    "printTasks(finalProcess)"
   ]
  },
  {
   "cell_type": "code",
   "execution_count": 7,
   "id": "3a50979c",
   "metadata": {
    "id": "3a50979c"
   },
   "outputs": [],
   "source": [
    "def startProcess(Object):\n",
    "    currentTime = 0\n",
    "    completed_tasks = 0\n",
    "    total_tasks = len(Object.processArr)\n",
    "    task_queue = []\n",
    "\n",
    "    while completed_tasks < total_tasks:\n",
    "        # Add tasks that have arrived by the current time to the queue\n",
    "        for task in Object.processArr:\n",
    "            if task.arrivalTime == currentTime and task not in task_queue and task.remainingTime > 0:\n",
    "                task_queue.append(task)\n",
    "\n",
    "        # Sort the task queue by remaining time (shortest first), and arrival time if tied\n",
    "        task_queue.sort(key=lambda p: (p.remainingTime, p.arrivalTime))\n",
    "\n",
    "        if task_queue:\n",
    "            # Pick the task with the shortest remaining time\n",
    "            current_task = task_queue[0]\n",
    "\n",
    "            # Execute the task for 1 time unit\n",
    "            current_task.executionLog.append(currentTime)\n",
    "            current_task.remainingTime -= 1\n",
    "            currentTime += 1\n",
    "\n",
    "            if current_task.remainingTime == 0:\n",
    "                # If the task is completed, calculate its attributes and remove it from the queue\n",
    "                current_task.calculateAttributes(currentTime)\n",
    "                task_queue.pop(0)\n",
    "                completed_tasks += 1\n",
    "        else:\n",
    "            # If no tasks are ready, increment time\n",
    "            currentTime += 1\n",
    "\n",
    "    Object.totalTime = currentTime\n",
    "\n",
    "\n",
    "startProcess(finalProcess)"
   ]
  },
  {
   "cell_type": "code",
   "execution_count": 8,
   "id": "1b3b9fb0",
   "metadata": {
    "colab": {
     "base_uri": "https://localhost:8080/"
    },
    "id": "1b3b9fb0",
    "outputId": "09a45db6-8742-4f08-e212-4af29dde2ad1"
   },
   "outputs": [
    {
     "name": "stdout",
     "output_type": "stream",
     "text": [
      "  Process  Burst  Arrival  Waiting  Completion  TurnAround\n",
      "0       A      3        0        0           3           3\n",
      "1       B      5        2        3          10           8\n",
      "2       C      2        2        1           5           3\n",
      "3       D      6        3        7          16          13\n"
     ]
    }
   ],
   "source": [
    "df = finalProcess.to_dataFrame()\n",
    "print(df)"
   ]
  },
  {
   "cell_type": "code",
   "execution_count": 9,
   "id": "719936e3",
   "metadata": {
    "colab": {
     "base_uri": "https://localhost:8080/",
     "height": 472
    },
    "id": "719936e3",
    "outputId": "09dbabce-fe7b-4002-a37a-c82901b27f5d"
   },
   "outputs": [
    {
     "data": {
      "image/png": "[encoded data removed]",
      "text/plain": [
       "<Figure size 640x480 with 1 Axes>"
      ]
     },
     "metadata": {},
     "output_type": "display_data"
    },
    {
     "name": "stdout",
     "output_type": "stream",
     "text": [
      "Average Waiting Time: 2.75 s\n",
      "Total Time: 16 s\n"
     ]
    }
   ],
   "source": [
    "\n",
    "# Plot Gantt Chart with Waiting Time\n",
    "fig, gnt = plt.subplots()\n",
    "\n",
    "# Create Gantt chart intervals for each process\n",
    "for task in finalProcess.processArr:\n",
    "    # Execution intervals\n",
    "    execution_intervals = task.executionLog\n",
    "    for i in range(len(execution_intervals)):\n",
    "        plt.barh(task.processChar, 1, left=execution_intervals[i], color=\"orange\", zorder=3)\n",
    "\n",
    "    # Waiting intervals\n",
    "    for t in range(task.arrivalTime, task.completionTime):\n",
    "        if t not in execution_intervals:\n",
    "            plt.barh(task.processChar, 1, left=t, color=\"skyblue\", zorder=2)\n",
    "\n",
    "plt.title(\"Shortest Remaining Time First (SRTF) CPU Schedule Gantt Chart\")\n",
    "plt.gca().invert_yaxis()\n",
    "gnt.grid(True, zorder=1)\n",
    "gnt.set_ylabel(\"Process\")\n",
    "gnt.set_xlabel(\"Time (s)\")\n",
    "plt.legend([\"Burst Time\", \"Waiting Time\"], title=\"Time Type\")\n",
    "plt.ioff()\n",
    "plt.gcf().savefig(fname=\"Plot Figures/P_SRTF\", pad_inches=0.3)\n",
    "plt.show()\n",
    "\n",
    "print(\"Average Waiting Time:\", finalProcess.calculateAverageWaitingTime(), \"s\")\n",
    "print(\"Total Time:\", int(finalProcess.totalTime), \"s\")"
   ]
  }
 ],
 "metadata": {
  "colab": {
   "include_colab_link": true,
   "provenance": []
  },
  "kernelspec": {
   "display_name": "Python 3 (ipykernel)",
   "language": "python",
   "name": "python3"
  },
  "language_info": {
   "codemirror_mode": {
    "name": "ipython",
    "version": 3
   },
   "file_extension": ".py",
   "mimetype": "text/x-python",
   "name": "python",
   "nbconvert_exporter": "python",
   "pygments_lexer": "ipython3",
   "version": "3.9.20"
  }
 },
 "nbformat": 4,
 "nbformat_minor": 5
}
