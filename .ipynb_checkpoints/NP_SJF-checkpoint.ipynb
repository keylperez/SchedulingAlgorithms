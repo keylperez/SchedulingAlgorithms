{
  "cells": [
    {
      "cell_type": "markdown",
      "metadata": {
        "id": "view-in-github",
        "colab_type": "text"
      },
      "source": [
        "<a href=\"https://colab.research.google.com/github/keylperez/SchedulingAlgorithms/blob/main/NP_SJF.ipynb\" target=\"_parent\"><img src=\"https://colab.research.google.com/assets/colab-badge.svg\" alt=\"Open In Colab\"/></a>"
      ]
    },
    {
      "cell_type": "markdown",
      "source": [
        "Shortest Job First"
      ],
      "metadata": {
        "id": "bN2UMKxWZskj"
      },
      "id": "bN2UMKxWZskj"
    },
    {
      "cell_type": "code",
      "execution_count": null,
      "id": "e97c63d6",
      "metadata": {
        "id": "e97c63d6"
      },
      "outputs": [],
      "source": [
        "import time\n",
        "import pandas as pd\n",
        "import matplotlib.pyplot as plt"
      ]
    },
    {
      "cell_type": "code",
      "execution_count": null,
      "id": "e52815c8",
      "metadata": {
        "id": "e52815c8"
      },
      "outputs": [],
      "source": [
        "class Process:\n",
        "    def __init__(self, array):\n",
        "        self.processArr = array\n",
        "        self.averageWaitingTime = 0\n",
        "        self.totalTime = 0\n",
        "\n",
        "    def calculateAverageWaitingTime(self):\n",
        "        sum = 0\n",
        "        for task in self.processArr:\n",
        "            sum += task.waitingTime\n",
        "        return sum/len(self.processArr)\n",
        "\n",
        "    def to_dataFrame(self):\n",
        "        data = []\n",
        "        for task in self.processArr:\n",
        "            data.append({\n",
        "                'Process': task.processChar,\n",
        "                'Arrival': task.arrivalTime,\n",
        "                'Burst': task.burstTime,\n",
        "                'Completion': task.completionTime,\n",
        "                'Waiting': task.waitingTime,\n",
        "                'Turn Around': task.turnAroundTime\n",
        "            })\n",
        "        return pd.DataFrame(data)\n",
        "\n",
        "class Task:\n",
        "    def __init__(self, processChar, burstTime, arrivalTime):\n",
        "        self.processChar = processChar\n",
        "        self.burstTime = burstTime\n",
        "        self.arrivalTime = arrivalTime\n",
        "        self.completionTime = 0\n",
        "        self.turnAroundTime = 0\n",
        "        self.waitingTime = 0\n",
        "\n",
        "    def calculateAttributes(self, time):\n",
        "        self.completionTime = time\n",
        "        self.turnAroundTime = self.completionTime - self.arrivalTime\n",
        "        self.waitingTime = self.turnAroundTime - self.burstTime\n",
        "\n",
        "    def incrementWait(self):\n",
        "        self.waitingTime += 1\n",
        "        return self.waitingTime\n",
        "\n",
        "    def __repr__(self):\n",
        "        return f\"{{ Process: {self.processChar}, Burst Time: {self.burstTime}, Arrival Time: {self.arrivalTime}, Waiting Time: {self.waitingTime}, CompletionTime: {self.completionTime} Turn Around Time: {self.turnAroundTime} }}\""
      ]
    },
    {
      "cell_type": "code",
      "execution_count": null,
      "id": "b1ed2f80",
      "metadata": {
        "id": "b1ed2f80",
        "outputId": "cf9b4a9e-1f5d-46b4-ad0a-81d965ec25fb",
        "colab": {
          "base_uri": "https://localhost:8080/"
        }
      },
      "outputs": [
        {
          "name": "stdout",
          "output_type": "stream",
          "text": [
            "Input how many process you will input: 3\n",
            "Process A\n",
            "Input Burst Time: 3\n",
            "Input Arrival Time: 7\n",
            "Process B\n",
            "Input Burst Time: 5\n",
            "Input Arrival Time: 0\n",
            "Process C\n",
            "Input Burst Time: 3\n",
            "Input Arrival Time: \n",
            "Please input integers!!!\n",
            "Input Arrival Time: 1\n"
          ]
        }
      ],
      "source": [
        "while True:\n",
        "    try:\n",
        "        quantProcess = int(input(\"Input how many process you will input: \"))\n",
        "        break\n",
        "    except:\n",
        "        print(\"PLEASE INPUT INTEGERS!!!\")\n",
        "\n",
        "\n",
        "taskChar = 'A'\n",
        "taskArr = []\n",
        "\n",
        "for x in range(quantProcess):\n",
        "    print(\"Process \" + taskChar)\n",
        "\n",
        "    while True:\n",
        "        try:\n",
        "            bt = int(input(\"Input Burst Time: \"))\n",
        "            break\n",
        "        except:\n",
        "            print(\"Please input integers!!!\")\n",
        "\n",
        "    while True:\n",
        "        try:\n",
        "            at = int(input(\"Input Arrival Time: \"))\n",
        "            break\n",
        "        except:\n",
        "            print(\"Please input integers!!!\")\n",
        "\n",
        "    taskArr.append(Task(taskChar, bt, at))\n",
        "    taskChar = chr(ord(taskChar) + 1)1\n",
        "\n",
        "finalProcess = Process(taskArr)"
      ]
    },
    {
      "cell_type": "code",
      "execution_count": null,
      "id": "2c00ae53",
      "metadata": {
        "id": "2c00ae53",
        "outputId": "c506cb32-c7a6-4b7a-8e07-826d76325b36",
        "colab": {
          "base_uri": "https://localhost:8080/"
        }
      },
      "outputs": [
        {
          "output_type": "stream",
          "name": "stdout",
          "text": [
            "{ Process: A, Burst Time: 3, Arrival Time: 7, Waiting Time: 0, CompletionTime: 0 Turn Around Time: 0 }\n",
            "{ Process: B, Burst Time: 5, Arrival Time: 0, Waiting Time: 0, CompletionTime: 0 Turn Around Time: 0 }\n",
            "{ Process: C, Burst Time: 3, Arrival Time: 1, Waiting Time: 0, CompletionTime: 0 Turn Around Time: 0 }\n"
          ]
        }
      ],
      "source": [
        "def printTasks(Object):\n",
        "    for obj in Object.processArr:\n",
        "        print(obj)\n",
        "\n",
        "printTasks(finalProcess)"
      ]
    },
    {
      "cell_type": "code",
      "execution_count": null,
      "id": "3a50979c",
      "metadata": {
        "id": "3a50979c"
      },
      "outputs": [],
      "source": [
        "\n",
        "def startProcess(Object):\n",
        "\n",
        "    Object.processArr.sort(key=lambda p: (p.arrivalTime, p.burstTime))\n",
        "\n",
        "    startTime = 0\n",
        "    completed_tasks = []\n",
        "    pending_tasks = Object.processArr.copy()\n",
        "\n",
        "\n",
        "    while pending_tasks:\n",
        "        # Select tasks that have arrived and not yet completed\n",
        "        available_tasks = [task for task in pending_tasks if task.arrivalTime <= startTime]\n",
        "\n",
        "        if available_tasks:\n",
        "            # Sort available tasks by burst time (Shortest Job First)\n",
        "            available_tasks.sort(key=lambda p: p.burstTime)\n",
        "\n",
        "            # Pick the task with the shortest burst time\n",
        "            current_task = available_tasks[0]\n",
        "            pending_tasks.remove(current_task)\n",
        "\n",
        "            # Execute the task\n",
        "            current_task.calculateAttributes(startTime + current_task.burstTime)\n",
        "            startTime += current_task.burstTime\n",
        "            completed_tasks.append(current_task)\n",
        "        else:\n",
        "            # If no tasks are available, increment time to next task's arrival\n",
        "            startTime += 1\n",
        "\n",
        "    Object.processArr = completed_tasks\n",
        "    Object.totalTime = startTime\n",
        "\n",
        "startProcess(finalProcess)"
      ]
    },
    {
      "cell_type": "code",
      "execution_count": null,
      "id": "1b3b9fb0",
      "metadata": {
        "id": "1b3b9fb0",
        "outputId": "ad5fef42-d1bc-42b6-9364-07f967bf153c",
        "colab": {
          "base_uri": "https://localhost:8080/"
        }
      },
      "outputs": [
        {
          "output_type": "stream",
          "name": "stdout",
          "text": [
            "  Process  Arrival  Burst  Completion  Waiting  Turn Around\n",
            "0       B        0      5           5        0            5\n",
            "1       C        1      3           8        4            7\n",
            "2       A        7      3          11        1            4\n"
          ]
        }
      ],
      "source": [
        "df = finalProcess.to_dataFrame()\n",
        "print(df)"
      ]
    },
    {
      "cell_type": "code",
      "execution_count": null,
      "id": "719936e3",
      "metadata": {
        "id": "719936e3",
        "outputId": "0fe532d6-b6e5-44f1-b6af-d936947f411e",
        "colab": {
          "base_uri": "https://localhost:8080/",
          "height": 472
        }
      },
      "outputs": [
        {
          "output_type": "display_data",
          "data": {
            "text/plain": [
              "<Figure size 640x480 with 1 Axes>"
            ],
            "image/png": "[encoded data removed]"
          },
          "metadata": {}
        }
      ],
      "source": [
        "# Plot Gantt Chart\n",
        "df = finalProcess.to_dataFrame()\n",
        "fig, gnt = plt.subplots()\n",
        "\n",
        "plt.barh(y=df['Process'], width=df['Burst'], left=df['Arrival'] + df['Waiting'], color=\"orange\", label=\"Burst Time\", zorder=3)\n",
        "plt.barh(y=df['Process'], width=df['Waiting'], left=df['Arrival'], color=\"skyblue\", label=\"Waiting Time\", zorder=3)\n",
        "\n",
        "plt.title(\"Shortest Job First CPU Schedule Gantt Chart\")\n",
        "plt.gca().invert_yaxis()\n",
        "gnt.grid(True, zorder=1)\n",
        "gnt.set_ylabel(\"Process\")\n",
        "gnt.set_xlabel(\"Time (s)\")\n",
        "\n",
        "# gnt.set_xticks(range(0, int(finalProcess.totalTime)))\n",
        "# gnt.set_xticklabels(range(0, int(finalProcess.totalTime), 3), minor=False, rotation=0, fontsize=None)\n",
        "\n",
        "\n",
        "tick_interval = 3  # Set interval for ticks\n",
        "max_time = int(finalProcess.totalTime)\n",
        "tick_locations = range(0, max_time + 1, tick_interval)  # Ensure consistent intervals\n",
        "gnt.set_xticks(tick_locations)  # Set tick locations\n",
        "gnt.set_xticklabels(tick_locations, minor=False, rotation=0)  # Match labels to locations\n",
        "\n",
        "plt.legend(title=\"Time Type\")\n",
        "plt.show()"
      ]
    },
    {
      "cell_type": "code",
      "execution_count": null,
      "id": "4a3bb0f1-8f0e-4abf-b199-975329de926f",
      "metadata": {
        "id": "4a3bb0f1-8f0e-4abf-b199-975329de926f",
        "outputId": "ca7d8fbb-0c66-45a0-b4af-0d264c8be7c6",
        "colab": {
          "base_uri": "https://localhost:8080/"
        }
      },
      "outputs": [
        {
          "output_type": "stream",
          "name": "stdout",
          "text": [
            "Average Waiting Time: 1.6666666666666667 s\n",
            "Total Time: 11 s\n"
          ]
        }
      ],
      "source": [
        "print(\"Average Waiting Time:\", finalProcess.calculateAverageWaitingTime(), \"s\")\n",
        "print(\"Total Time:\", int(finalProcess.totalTime), \"s\")"
      ]
    },
    {
      "cell_type": "code",
      "execution_count": null,
      "id": "5fa146c4-d4a5-44c1-9f11-333f0a7fe36f",
      "metadata": {
        "id": "5fa146c4-d4a5-44c1-9f11-333f0a7fe36f"
      },
      "outputs": [],
      "source": []
    }
  ],
  "metadata": {
    "kernelspec": {
      "display_name": "Python 3 (ipykernel)",
      "language": "python",
      "name": "python3"
    },
    "language_info": {
      "codemirror_mode": {
        "name": "ipython",
        "version": 3
      },
      "file_extension": ".py",
      "mimetype": "text/x-python",
      "name": "python",
      "nbconvert_exporter": "python",
      "pygments_lexer": "ipython3",
      "version": "3.9.20"
    },
    "colab": {
      "provenance": [],
      "include_colab_link": true
    }
  },
  "nbformat": 4,
  "nbformat_minor": 5
}