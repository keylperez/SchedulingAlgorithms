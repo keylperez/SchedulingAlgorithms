{
  "cells": [
    {
      "cell_type": "markdown",
      "metadata": {
        "id": "view-in-github",
        "colab_type": "text"
      },
      "source": [
        "<a href=\"https://colab.research.google.com/github/keylperez/SchedulingAlgorithms/blob/main/P_RR.ipynb\" target=\"_parent\"><img src=\"https://colab.research.google.com/assets/colab-badge.svg\" alt=\"Open In Colab\"/></a>"
      ]
    },
    {
      "cell_type": "markdown",
      "source": [
        "Round-Robin Scheduling"
      ],
      "metadata": {
        "id": "A3R89pxnZmEF"
      },
      "id": "A3R89pxnZmEF"
    },
    {
      "cell_type": "code",
      "execution_count": 1,
      "id": "e97c63d6",
      "metadata": {
        "id": "e97c63d6"
      },
      "outputs": [],
      "source": [
        "import pandas as pd\n",
        "import matplotlib.pyplot as plt\n",
        "from collections import deque"
      ]
    },
    {
      "cell_type": "code",
      "execution_count": 2,
      "id": "e52815c8",
      "metadata": {
        "id": "e52815c8"
      },
      "outputs": [],
      "source": [
        "class Task:\n",
        "    def __init__(self, processChar, burstTime, arrivalTime):\n",
        "        self.processChar = processChar\n",
        "        self.burstTime = burstTime\n",
        "        self.remainingTime = burstTime  # Remaining burst time\n",
        "        self.arrivalTime = arrivalTime\n",
        "        self.completionTime = 0\n",
        "        self.turnAroundTime = 0\n",
        "        self.waitingTime = 0\n",
        "        self.executionLog = []  # Track execution intervals for Gantt chart\n",
        "\n",
        "    def calculateAttributes(self, time):\n",
        "        self.completionTime = time\n",
        "        self.turnAroundTime = self.completionTime - self.arrivalTime\n",
        "        self.waitingTime = self.turnAroundTime - self.burstTime\n",
        "\n",
        "    def __repr__(self):\n",
        "        return (f\"{{ Process: {self.processChar}, Burst Time: {self.burstTime}, \"\n",
        "                f\"Arrival Time: {self.arrivalTime}, Remaining Time: {self.remainingTime}, \"\n",
        "                f\"Waiting Time: {self.waitingTime}, Completion Time: {self.completionTime}, \"\n",
        "                f\"Turn Around Time: {self.turnAroundTime} }}\")\n"
      ]
    },
    {
      "cell_type": "code",
      "source": [
        "class Process:\n",
        "    def __init__(self, processArr):\n",
        "        self.processArr = processArr\n",
        "        self.totalTime = 0\n",
        "\n",
        "    def calculateAverageWaitingTime(self):\n",
        "        return sum([task.waitingTime for task in self.processArr]) / len(self.processArr)\n",
        "\n",
        "    def to_dataFrame(self):\n",
        "        data = {\n",
        "            \"Process\": [task.processChar for task in self.processArr],\n",
        "            \"Burst\": [task.burstTime for task in self.processArr],\n",
        "            \"Arrival\": [task.arrivalTime for task in self.processArr],\n",
        "            \"Waiting\": [task.waitingTime for task in self.processArr],\n",
        "            \"Completion\": [task.completionTime for task in self.processArr],\n",
        "            \"TurnAround\": [task.turnAroundTime for task in self.processArr],\n",
        "        }\n",
        "        return pd.DataFrame(data)"
      ],
      "metadata": {
        "id": "9QR0hm7nh4iD"
      },
      "id": "9QR0hm7nh4iD",
      "execution_count": 3,
      "outputs": []
    },
    {
      "cell_type": "code",
      "execution_count": 4,
      "id": "b1ed2f80",
      "metadata": {
        "id": "b1ed2f80",
        "outputId": "743dc6d0-e188-4c03-a781-7c86f3cc737e",
        "colab": {
          "base_uri": "https://localhost:8080/"
        }
      },
      "outputs": [
        {
          "name": "stdout",
          "output_type": "stream",
          "text": [
            "Input how many processes you will input: 4\n",
            "Input the time quantum: 2\n",
            "Process A\n",
            "Input Burst Time: 5\n",
            "Input Arrival Time: 0\n",
            "Process B\n",
            "Input Burst Time: 3\n",
            "Input Arrival Time: 1\n",
            "Process C\n",
            "Input Burst Time: 6\n",
            "Input Arrival Time: 0\n",
            "Process D\n",
            "Input Burst Time: 2\n",
            "Input Arrival Time: 2\n"
          ]
        }
      ],
      "source": [
        "# Input Section\n",
        "while True:\n",
        "    try:\n",
        "        quantProcess = int(input(\"Input how many processes you will input: \"))\n",
        "        break\n",
        "    except:\n",
        "        print(\"PLEASE INPUT INTEGERS!!!\")\n",
        "\n",
        "while True:\n",
        "    try:\n",
        "        timeQuantum = int(input(\"Input the time quantum: \"))\n",
        "        break\n",
        "    except:\n",
        "        print(\"PLEASE INPUT INTEGERS!!!\")\n",
        "\n",
        "taskChar = 'A'\n",
        "taskArr = []\n",
        "\n",
        "for x in range(quantProcess):\n",
        "    print(f\"Process {taskChar}\")\n",
        "\n",
        "    while True:\n",
        "        try:\n",
        "            bt = int(input(\"Input Burst Time: \"))\n",
        "            break\n",
        "        except:\n",
        "            print(\"Please input integers!!!\")\n",
        "\n",
        "    while True:\n",
        "        try:\n",
        "            at = int(input(\"Input Arrival Time: \"))\n",
        "            break\n",
        "        except:\n",
        "            print(\"Please input integers!!!\")\n",
        "\n",
        "    taskArr.append(Task(taskChar, bt, at))\n",
        "    taskChar = chr(ord(taskChar) + 1)\n",
        "\n",
        "finalProcess = Process(taskArr)"
      ]
    },
    {
      "cell_type": "code",
      "execution_count": 5,
      "id": "2c00ae53",
      "metadata": {
        "id": "2c00ae53",
        "outputId": "3f59c5f8-bec0-4567-c2d2-e5e9e7f7696e",
        "colab": {
          "base_uri": "https://localhost:8080/"
        }
      },
      "outputs": [
        {
          "output_type": "stream",
          "name": "stdout",
          "text": [
            "{ Process: A, Burst Time: 5, Arrival Time: 0, Remaining Time: 5, Waiting Time: 0, Completion Time: 0, Turn Around Time: 0 }\n",
            "{ Process: B, Burst Time: 3, Arrival Time: 1, Remaining Time: 3, Waiting Time: 0, Completion Time: 0, Turn Around Time: 0 }\n",
            "{ Process: C, Burst Time: 6, Arrival Time: 0, Remaining Time: 6, Waiting Time: 0, Completion Time: 0, Turn Around Time: 0 }\n",
            "{ Process: D, Burst Time: 2, Arrival Time: 2, Remaining Time: 2, Waiting Time: 0, Completion Time: 0, Turn Around Time: 0 }\n"
          ]
        }
      ],
      "source": [
        "def printTasks(Object):\n",
        "    for obj in Object.processArr:\n",
        "        print(obj)\n",
        "\n",
        "printTasks(finalProcess)"
      ]
    },
    {
      "cell_type": "code",
      "execution_count": 6,
      "id": "3a50979c",
      "metadata": {
        "id": "3a50979c"
      },
      "outputs": [],
      "source": [
        "def startProcess(Object, timeQuantum):\n",
        "    currentTime = 0\n",
        "    task_queue = deque()  # Circular queue\n",
        "    completed_tasks = 0\n",
        "    total_tasks = len(Object.processArr)\n",
        "\n",
        "    # Add tasks to the queue as they arrive\n",
        "    while completed_tasks < total_tasks:\n",
        "        # Enqueue new tasks that have arrived\n",
        "        for task in Object.processArr:\n",
        "            if task.arrivalTime == currentTime and task not in task_queue and task.remainingTime > 0:\n",
        "                task_queue.append(task)\n",
        "\n",
        "        if task_queue:\n",
        "            # Get the next task from the queue\n",
        "            current_task = task_queue.popleft()\n",
        "\n",
        "            # Execute the task for the time quantum or until it finishes\n",
        "            executionTime = min(timeQuantum, current_task.remainingTime)\n",
        "            for t in range(executionTime):\n",
        "                current_task.executionLog.append(currentTime)\n",
        "                currentTime += 1\n",
        "\n",
        "                # Enqueue tasks that arrive during the execution\n",
        "                for task in Object.processArr:\n",
        "                    if task.arrivalTime == currentTime and task not in task_queue and task.remainingTime > 0:\n",
        "                        task_queue.append(task)\n",
        "\n",
        "            # Update the remaining time for the current task\n",
        "            current_task.remainingTime -= executionTime\n",
        "\n",
        "            if current_task.remainingTime == 0:\n",
        "                # If the task is completed, calculate its attributes\n",
        "                current_task.calculateAttributes(currentTime)\n",
        "                completed_tasks += 1\n",
        "            else:\n",
        "                # Re-enqueue the task if it's not finished\n",
        "                task_queue.append(current_task)\n",
        "        else:\n",
        "            # If no tasks are ready, increment time\n",
        "            currentTime += 1\n",
        "\n",
        "    Object.totalTime = currentTime\n",
        "\n",
        "\n",
        "startProcess(finalProcess, timeQuantum)"
      ]
    },
    {
      "cell_type": "code",
      "execution_count": 7,
      "id": "1b3b9fb0",
      "metadata": {
        "id": "1b3b9fb0",
        "outputId": "14ca9c3c-27f3-4088-bf93-6515d813beff",
        "colab": {
          "base_uri": "https://localhost:8080/"
        }
      },
      "outputs": [
        {
          "output_type": "stream",
          "name": "stdout",
          "text": [
            "  Process  Burst  Arrival  Waiting  Completion  TurnAround\n",
            "0       A      5        0        9          14          14\n",
            "1       B      3        1        9          13          12\n",
            "2       C      6        0       10          16          16\n",
            "3       D      2        2        4           8           6\n"
          ]
        }
      ],
      "source": [
        "df = finalProcess.to_dataFrame()\n",
        "print(df)"
      ]
    },
    {
      "cell_type": "code",
      "execution_count": 8,
      "id": "719936e3",
      "metadata": {
        "id": "719936e3",
        "outputId": "da8296ca-a7dc-41e0-92ec-f6b11c84e9e9",
        "colab": {
          "base_uri": "https://localhost:8080/",
          "height": 472
        }
      },
      "outputs": [
        {
          "output_type": "display_data",
          "data": {
            "text/plain": [
              "<Figure size 640x480 with 1 Axes>"
            ],
            "image/png": "[encoded data removed]"
          },
          "metadata": {}
        }
      ],
      "source": [
        "# Plot Gantt Chart with Waiting Time\n",
        "fig, gnt = plt.subplots()\n",
        "\n",
        "# Create Gantt chart intervals for each process\n",
        "for task in finalProcess.processArr:\n",
        "    # Execution intervals\n",
        "    execution_intervals = task.executionLog\n",
        "    for i in range(len(execution_intervals)):\n",
        "        plt.barh(task.processChar, 1, left=execution_intervals[i], color=\"orange\", zorder=3)\n",
        "\n",
        "    # Waiting intervals\n",
        "    for t in range(task.arrivalTime, task.completionTime):\n",
        "        if t not in execution_intervals:\n",
        "            plt.barh(task.processChar, 1, left=t, color=\"skyblue\", zorder=2)\n",
        "\n",
        "plt.title(\"Round Robin CPU Schedule Gantt Chart\")\n",
        "plt.gca().invert_yaxis()\n",
        "gnt.grid(True, zorder=1)\n",
        "gnt.set_ylabel(\"Process\")\n",
        "gnt.set_xlabel(\"Time (s)\")\n",
        "plt.legend([\"Burst Time\", \"Waiting Time\"], title=\"Time Type\")\n",
        "plt.show()"
      ]
    },
    {
      "cell_type": "code",
      "execution_count": 9,
      "id": "4a3bb0f1-8f0e-4abf-b199-975329de926f",
      "metadata": {
        "id": "4a3bb0f1-8f0e-4abf-b199-975329de926f",
        "outputId": "20c39ea8-8eca-4b5f-bb6c-4933dd5716c9",
        "colab": {
          "base_uri": "https://localhost:8080/"
        }
      },
      "outputs": [
        {
          "output_type": "stream",
          "name": "stdout",
          "text": [
            "Average Waiting Time: 8.0 s\n",
            "Total Time: 16 s\n"
          ]
        }
      ],
      "source": [
        "print(\"Average Waiting Time:\", finalProcess.calculateAverageWaitingTime(), \"s\")\n",
        "print(\"Total Time:\", int(finalProcess.totalTime), \"s\")"
      ]
    }
  ],
  "metadata": {
    "kernelspec": {
      "display_name": "Python 3 (ipykernel)",
      "language": "python",
      "name": "python3"
    },
    "language_info": {
      "codemirror_mode": {
        "name": "ipython",
        "version": 3
      },
      "file_extension": ".py",
      "mimetype": "text/x-python",
      "name": "python",
      "nbconvert_exporter": "python",
      "pygments_lexer": "ipython3",
      "version": "3.9.20"
    },
    "colab": {
      "provenance": [],
      "include_colab_link": true
    }
  },
  "nbformat": 4,
  "nbformat_minor": 5
}